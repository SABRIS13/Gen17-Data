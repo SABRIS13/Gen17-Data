{
  "cells": [
    {
      "cell_type": "markdown",
      "metadata": {
        "id": "VEn_SLPyboN0"
      },
      "source": [
        "#Los operadores lógicos \n",
        "\n"
      ]
    },
    {
      "cell_type": "markdown",
      "metadata": {
        "id": "P1vqdpRJQMv6"
      },
      "source": [
        "Recordemos los operadores de comparación\n",
        "\n",
        "![img1](https://facialix.com/images/cond.png)"
      ]
    },
    {
      "cell_type": "markdown",
      "metadata": {
        "id": "jXKTPrImShCj"
      },
      "source": [
        "y veamos algunos ejemplos de los operadores logicos en acción\n",
        "\n",
        "![img2](https://facialix.com/images/logicos.png)"
      ]
    },
    {
      "cell_type": "markdown",
      "metadata": {
        "id": "Ltf91jwLSB_d"
      },
      "source": [
        "**En este ejercicio debes mostrar el valor que se obtiene de las sentencias al ejecutarlas en codigo y explicarlas:**"
      ]
    },
    {
      "cell_type": "markdown",
      "metadata": {
        "id": "8CXLWwF2TS5D"
      },
      "source": [
        "1) **not true**"
      ]
    },
    {
      "cell_type": "code",
      "execution_count": 1,
      "metadata": {
        "id": "dn0D2e0wB4mv"
      },
      "outputs": [
        {
          "data": {
            "text/plain": [
              "False"
            ]
          },
          "execution_count": 1,
          "metadata": {},
          "output_type": "execute_result"
        }
      ],
      "source": [
        "#Escribe el codigo aquí\n",
        "not True\n",
        "\n",
        "\n",
        "\n"
      ]
    },
    {
      "cell_type": "markdown",
      "metadata": {
        "id": "LIIjBScjETLc"
      },
      "source": [
        "Escribe el explicacion aquí \n",
        "\n",
        "🖍 ... Respuesta:False.\n",
        "El operador \"not\" cambia el valor de su derecha a su contrario. Al escribir \"not true\" se determina que la respuesta es falsa."
      ]
    },
    {
      "cell_type": "markdown",
      "metadata": {
        "id": "JGlH_p9ll3yO"
      },
      "source": [
        "2) **not (1+2 != 3)**"
      ]
    },
    {
      "cell_type": "code",
      "execution_count": 5,
      "metadata": {
        "id": "_hobkTpAUEB4"
      },
      "outputs": [
        {
          "data": {
            "text/plain": [
              "True"
            ]
          },
          "execution_count": 5,
          "metadata": {},
          "output_type": "execute_result"
        }
      ],
      "source": [
        "#Escribe el codigo aquí\n",
        "\n",
        "not(1+2 != 3)"
      ]
    },
    {
      "cell_type": "markdown",
      "metadata": {
        "id": "0Gw_3yeSFKRf"
      },
      "source": [
        "Escribe el explicacion aquí \n",
        "\n",
        "🖍 ...Respuesta:True. \n",
        "Priorizando el código en parentesis se determina que \"1+2\" es igual a \"3\", sin embargo el operador lógio \"!=\" está diciendo que \"1+2\" es diferente a \"3\" lo que es falso, pero al poner el operador not fuera del parentesis se determina que la condición es verdadera.\n",
        "[not(False)= \"True\"]"
      ]
    },
    {
      "cell_type": "markdown",
      "metadata": {
        "id": "nTis6gKvoNkm"
      },
      "source": [
        "3) **x = (len(\"jugar\") > 5) and (len(\"jugar\") < 10)**"
      ]
    },
    {
      "cell_type": "code",
      "execution_count": 7,
      "metadata": {
        "colab": {
          "base_uri": "https://localhost:8080/"
        },
        "id": "I3I7VbTdoin4",
        "outputId": "224317b6-73be-4043-ea37-01be5ec3ce68"
      },
      "outputs": [
        {
          "data": {
            "text/plain": [
              "False"
            ]
          },
          "execution_count": 7,
          "metadata": {},
          "output_type": "execute_result"
        }
      ],
      "source": [
        "#Escribe el codigo aquí\n",
        "x=(len(\"jugar\")>5) and (len(\"jugar\")<10)\n",
        "x"
      ]
    },
    {
      "cell_type": "markdown",
      "metadata": {
        "id": "Zml_nA0vFPqR"
      },
      "source": [
        "Escribe el explicacion aquí \n",
        "\n",
        "🖍 ... Respuesta: False. \n",
        "La primera parte del codigo es \"False\",ya que la palabras jugar tiene de largo 5 letras,y la segunda es \"True\", ya que el largo de jugar es menor a 10 palabras. Cuando usamos el operador \"AND\" y combinamos un \"FAlSE\" y un  \"TRUE\" arroja como resultado un \"FALSE\".\n",
        "[\"FALSE and TRUE=FALSE\"]"
      ]
    },
    {
      "cell_type": "markdown",
      "metadata": {
        "id": "HOwNy5VOorNy"
      },
      "source": [
        "4) **\"alto\"[2] == \"t\" and x**"
      ]
    },
    {
      "cell_type": "code",
      "execution_count": 8,
      "metadata": {
        "id": "mZx6iGmeoqEA"
      },
      "outputs": [
        {
          "data": {
            "text/plain": [
              "False"
            ]
          },
          "execution_count": 8,
          "metadata": {},
          "output_type": "execute_result"
        }
      ],
      "source": [
        "#Escribe el codigo aquí\n",
        "\"alto\"[2]==\"t\"and x\n",
        "\n"
      ]
    },
    {
      "cell_type": "markdown",
      "metadata": {
        "id": "ze-L4sA0FZv1"
      },
      "source": [
        "Escribe el explicacion aquí \n",
        "\n",
        "🖍 ... Respuesta:False.\n",
        "La letra t en la palabra \"alto\" se encuentra en la posición[2] pero al no cumplirse la segunda condición (and x), arroja un resultado \"FALSE\".\n",
        "[\"TRUE and FALSE=FALSE\"]"
      ]
    },
    {
      "cell_type": "markdown",
      "metadata": {
        "id": "cCqs1tjHNpv4"
      },
      "source": [
        "5) **842913%10 != 3 and len(\"café\") == 3**"
      ]
    },
    {
      "cell_type": "code",
      "execution_count": null,
      "metadata": {
        "id": "70-kC-f9oqAe"
      },
      "outputs": [],
      "source": [
        "#Escribe el codigo aquí\n",
        "\n",
        "\n",
        "842913%10 != 3 and len(\"café\") ==3"
      ]
    },
    {
      "cell_type": "markdown",
      "metadata": {
        "id": "TpDnFFjcGdkj"
      },
      "source": [
        "Escribe el explicacion aquí \n",
        "\n",
        "🖍 ... Respuesta: False.\n",
        "Ambas condicones con falsas, ya que el residuo de la división \"842913/10\" es 3  y el largo de la palabra \"cafe\" es 4, entonves al combinar un \"FALSE\" con un \"FALSE\" da como resultado un \"FALSE\".\n",
        "[\"FALSE and FALSE=FALSE\"]"
      ]
    },
    {
      "cell_type": "markdown",
      "metadata": {
        "id": "ato2HirpOAy9"
      },
      "source": [
        "6) **0!=0 or \"a\" < \"y\"**"
      ]
    },
    {
      "cell_type": "code",
      "execution_count": null,
      "metadata": {
        "id": "r4NtOzm3op94"
      },
      "outputs": [],
      "source": [
        "#Escribe el codigo aquí\n",
        "\n",
        "0!=0 or \"a\"<\"y\"\n"
      ]
    },
    {
      "cell_type": "markdown",
      "metadata": {
        "id": "Roy4PanwGfxi"
      },
      "source": [
        "Escribe el explicacion aquí\n",
        "\n",
        "🖍 ... Respuesta:TRUE.\n",
        "Al utilizar el operador OR una de las condiciones debe ser verdadera para arrojar un resultado verdadero (\"True\"). Como \"a\" es menor que \"y\" la resultado es \"True\".\n",
        "[\"FALSE or TRUE=TRUE\"]"
      ]
    },
    {
      "cell_type": "markdown",
      "metadata": {
        "id": "5W25SYZeORtE"
      },
      "source": [
        "7) **True or int(\"50\") >= 50**"
      ]
    },
    {
      "cell_type": "code",
      "execution_count": null,
      "metadata": {
        "id": "mTpYdCzFop7s"
      },
      "outputs": [],
      "source": [
        "#Escribe el codigo aquí\n",
        "\n",
        "\n",
        "True or int(\"50\")>=50"
      ]
    },
    {
      "cell_type": "markdown",
      "metadata": {
        "id": "hMZpEBHCGkqJ"
      },
      "source": [
        "Escribe el explicacion aquí \n",
        "\n",
        "🖍 ...Resultado:True.\n",
        "Ambas condiciones son veraderas, por lo que al utilizar OR en dos condiciones: \"TRUE or TRUE\" el resultado obtenido es \"True\".\n",
        "[\"TRUE or TRUE=TRUE\"]"
      ]
    },
    {
      "cell_type": "markdown",
      "metadata": {
        "id": "Dp4beMsqOhOh"
      },
      "source": [
        "8) **edad = 20**\n",
        "\n",
        "**not(x) or edad%2==0**"
      ]
    },
    {
      "cell_type": "code",
      "execution_count": null,
      "metadata": {
        "id": "bTco9wG8op5G"
      },
      "outputs": [],
      "source": [
        "#Escribe el codigo aquí\n",
        "\n",
        "edad=20\n",
        "not(x) or edad%2==0\n"
      ]
    },
    {
      "cell_type": "markdown",
      "metadata": {
        "id": "AyH5LeZ4HgaZ"
      },
      "source": [
        "Escribe el explicacion aquí \n",
        "\n",
        "🖍 ... Respuesta: TRUE\n",
        "Del ejercicio 3, la x era \"FALSE\" por lo que not(x) es \"TRUE\" y la edad tiene un residuo 0 dando una condición de \"TRUE\" (20/2=10 R 0). Ambas condiciones separadas del operador OR da como resultado un respuesta veradadera.\n",
        "[\"not(false) or TRUE=TRUE\"]"
      ]
    },
    {
      "cell_type": "markdown",
      "metadata": {
        "id": "QXou2mt7Oy4r"
      },
      "source": [
        "9) **es_cliente = False**\n",
        "\n",
        "**not (es_cliente and not(edad < 18))**"
      ]
    },
    {
      "cell_type": "code",
      "execution_count": null,
      "metadata": {
        "id": "-p3G0qH3op2X"
      },
      "outputs": [],
      "source": [
        "#Escribe el codigo aquí\n",
        "\n",
        "es_cliente=False\n",
        "not(es_cliente and not(edad<18))"
      ]
    },
    {
      "cell_type": "markdown",
      "metadata": {
        "id": "hBpjtW7iHhW8"
      },
      "source": [
        "Escribe el explicacion aquí \n",
        "\n",
        "🖍 ... Respuesta: True. \n",
        "Dentro del parentesis la primera variable es \"False\" y la segunda condición de la edad es \"not(false)\" ya que en el ejercicio anterior la edad tenía un valor de 20; por lo que dentro del parentesis se tiene un \"False y un \"True\" lo que da como resultado un \"False\". Tomando en cuenta el operador fuera del parentesis la respuesta es \"True\".\n",
        "[\"not(False and True)=not(False)=True\"]"
      ]
    },
    {
      "cell_type": "markdown",
      "metadata": {
        "id": "_jKHKuBkbxhX"
      },
      "source": [
        "###Recursos extra para estudiar y ejercios\n"
      ]
    },
    {
      "cell_type": "markdown",
      "metadata": {
        "id": "86XEDrCbdBCr"
      },
      "source": [
        "- Video corto de Coursera: [Tablas de verdad y álgebra booleana](https://www.coursera.org/lecture/programacion-python/tablas-de-verdad-y-algebra-booleana-JJs0E)\n",
        "- Articulo corto de [Tablas de la verdad](https://www.ecured.cu/Tablas_de_la_verdad)\n",
        "- Ejercicios practicos en portal de [Tablas de Verdad](https://www.edu.xunta.gal/espazoAbalar/sites/espazoAbalar/files/datos/1493724904/contido/tablas_de_verdad.html)\n",
        "- Guía de [Ejercicios de Lógica](https://www.fing.edu.uy/tecnoinf/mvd/cursos/mdl1/material/pra/buceo_noct/mdl1-pr-logica.pdf)"
      ]
    }
  ],
  "metadata": {
    "colab": {
      "collapsed_sections": [],
      "name": "Los operadores lógicos - challenge.ipynb",
      "provenance": []
    },
    "kernelspec": {
      "display_name": "Python 3",
      "name": "python3"
    },
    "language_info": {
      "codemirror_mode": {
        "name": "ipython",
        "version": 3
      },
      "file_extension": ".py",
      "mimetype": "text/x-python",
      "name": "python",
      "nbconvert_exporter": "python",
      "pygments_lexer": "ipython3",
      "version": "3.10.4"
    }
  },
  "nbformat": 4,
  "nbformat_minor": 0
}
