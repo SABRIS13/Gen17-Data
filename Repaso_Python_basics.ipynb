{
  "nbformat": 4,
  "nbformat_minor": 0,
  "metadata": {
    "colab": {
      "provenance": [],
      "authorship_tag": "ABX9TyPsAl3279Zvf2sZIdru9/3N",
      "include_colab_link": true
    },
    "kernelspec": {
      "name": "python3",
      "display_name": "Python 3"
    },
    "language_info": {
      "name": "python"
    }
  },
  "cells": [
    {
      "cell_type": "markdown",
      "metadata": {
        "id": "view-in-github",
        "colab_type": "text"
      },
      "source": [
        "<a href=\"https://colab.research.google.com/github/SABRIS13/Python-Data-Science/blob/main/Repaso_Python_basics.ipynb\" target=\"_parent\"><img src=\"https://colab.research.google.com/assets/colab-badge.svg\" alt=\"Open In Colab\"/></a>"
      ]
    },
    {
      "cell_type": "markdown",
      "source": [
        "# **Python para DS**\n",
        "### Introducción al lenguaje\n"
      ],
      "metadata": {
        "id": "JGTNHh7TOYRB"
      }
    },
    {
      "cell_type": "code",
      "execution_count": 71,
      "metadata": {
        "colab": {
          "base_uri": "https://localhost:8080/"
        },
        "id": "8CveXftXORXB",
        "outputId": "e61efd50-abdb-430e-b4e3-51e7a4c9fff5"
      },
      "outputs": [
        {
          "output_type": "execute_result",
          "data": {
            "text/plain": [
              "2"
            ]
          },
          "metadata": {},
          "execution_count": 71
        }
      ],
      "source": [
        "1+1"
      ]
    },
    {
      "cell_type": "code",
      "source": [
        "'Sabrina'"
      ],
      "metadata": {
        "colab": {
          "base_uri": "https://localhost:8080/",
          "height": 36
        },
        "id": "IpzTfhq6Ox6Z",
        "outputId": "5ab1a4c8-52d6-42a5-e19d-050e0436c89e"
      },
      "execution_count": 72,
      "outputs": [
        {
          "output_type": "execute_result",
          "data": {
            "text/plain": [
              "'Sabrina'"
            ],
            "application/vnd.google.colaboratory.intrinsic+json": {
              "type": "string"
            }
          },
          "metadata": {},
          "execution_count": 72
        }
      ]
    },
    {
      "cell_type": "code",
      "source": [
        "nombre= 'Beth'\n",
        "nombre"
      ],
      "metadata": {
        "colab": {
          "base_uri": "https://localhost:8080/",
          "height": 36
        },
        "id": "E8EOwiqMOy6M",
        "outputId": "bd3354d3-54b3-435c-cb61-183f45984ff8"
      },
      "execution_count": 73,
      "outputs": [
        {
          "output_type": "execute_result",
          "data": {
            "text/plain": [
              "'Beth'"
            ],
            "application/vnd.google.colaboratory.intrinsic+json": {
              "type": "string"
            }
          },
          "metadata": {},
          "execution_count": 73
        }
      ]
    },
    {
      "cell_type": "code",
      "source": [
        "edad=15\n",
        "edad"
      ],
      "metadata": {
        "colab": {
          "base_uri": "https://localhost:8080/"
        },
        "id": "Wf9E8j5iO1nM",
        "outputId": "d84d689f-d3c7-4ced-a582-ad3cedc20a3a"
      },
      "execution_count": 74,
      "outputs": [
        {
          "output_type": "execute_result",
          "data": {
            "text/plain": [
              "15"
            ]
          },
          "metadata": {},
          "execution_count": 74
        }
      ]
    },
    {
      "cell_type": "markdown",
      "source": [
        "## **Funciones**"
      ],
      "metadata": {
        "id": "1XK60_ClO8Jc"
      }
    },
    {
      "cell_type": "markdown",
      "source": [
        "#### Sin parámetros"
      ],
      "metadata": {
        "id": "docHl19KSh_2"
      }
    },
    {
      "cell_type": "code",
      "source": [
        "print('El nombre es: Beth y su edad es 15 años')"
      ],
      "metadata": {
        "colab": {
          "base_uri": "https://localhost:8080/"
        },
        "id": "QwoT5xBgO4oY",
        "outputId": "c2517f6e-dc51-4979-de1e-61b46808652f"
      },
      "execution_count": 75,
      "outputs": [
        {
          "output_type": "stream",
          "name": "stdout",
          "text": [
            "El nombre es: Beth y su edad es 15 años\n"
          ]
        }
      ]
    },
    {
      "cell_type": "code",
      "source": [
        "print(f'El nombre es: {nombre} y su edad es: {edad} años')"
      ],
      "metadata": {
        "colab": {
          "base_uri": "https://localhost:8080/"
        },
        "id": "AE_vStzvPQYj",
        "outputId": "4a3a39af-44f0-42da-8dee-542ba6b4c379"
      },
      "execution_count": 76,
      "outputs": [
        {
          "output_type": "stream",
          "name": "stdout",
          "text": [
            "El nombre es: Beth y su edad es: 15 años\n"
          ]
        }
      ]
    },
    {
      "cell_type": "code",
      "source": [
        "def saludar():\n",
        "  nombre=input('Digite su nombre: ')\n",
        "  print(f'¡Hola {nombre} sea bienvenid@! ')"
      ],
      "metadata": {
        "id": "kZ4KaDpjPWX2"
      },
      "execution_count": 77,
      "outputs": []
    },
    {
      "cell_type": "code",
      "source": [
        "saludar()"
      ],
      "metadata": {
        "colab": {
          "base_uri": "https://localhost:8080/"
        },
        "id": "pJfYqfKePskV",
        "outputId": "22f05310-73b8-4314-fd04-984380297da9"
      },
      "execution_count": 78,
      "outputs": [
        {
          "output_type": "stream",
          "name": "stdout",
          "text": [
            "Digite su nombre: Sarah\n",
            "¡Hola Sarah sea bienvenid@! \n"
          ]
        }
      ]
    },
    {
      "cell_type": "code",
      "source": [
        "saludar()"
      ],
      "metadata": {
        "colab": {
          "base_uri": "https://localhost:8080/"
        },
        "id": "5QsLWY54PtnL",
        "outputId": "b2134283-8188-41b1-ed78-32d24bee5c9b"
      },
      "execution_count": 79,
      "outputs": [
        {
          "output_type": "stream",
          "name": "stdout",
          "text": [
            "Digite su nombre: Artur\n",
            "¡Hola Artur sea bienvenid@! \n"
          ]
        }
      ]
    },
    {
      "cell_type": "markdown",
      "source": [
        "#### Con parámetros"
      ],
      "metadata": {
        "id": "wZD7m4SbSm1I"
      }
    },
    {
      "cell_type": "code",
      "source": [
        "##Agregar parámetros a la función: saludar\n",
        "def saludar(nombre):\n",
        "  print(f'¡Hola {nombre} sea bienvenid@! ')"
      ],
      "metadata": {
        "id": "oEmOprFWPyTP"
      },
      "execution_count": 80,
      "outputs": []
    },
    {
      "cell_type": "code",
      "source": [
        "saludar('Andy')"
      ],
      "metadata": {
        "colab": {
          "base_uri": "https://localhost:8080/"
        },
        "id": "JNgBK6L2Qwvk",
        "outputId": "fa01d59a-6e87-4ebd-99d7-f23f879298f8"
      },
      "execution_count": 81,
      "outputs": [
        {
          "output_type": "stream",
          "name": "stdout",
          "text": [
            "¡Hola Andy sea bienvenid@! \n"
          ]
        }
      ]
    },
    {
      "cell_type": "code",
      "source": [
        "#Función de velocidad\n",
        "def velocidad(espacio, tiempo):\n",
        " v = espacio / tiempo\n",
        " print(f'Velocidad: {v} m/s')\n",
        "\n",
        "velocidad(100, 20)"
      ],
      "metadata": {
        "colab": {
          "base_uri": "https://localhost:8080/"
        },
        "id": "GpTSqgTSQzAz",
        "outputId": "a4aa1997-5e67-42f2-8365-c56c4dda8023"
      },
      "execution_count": 82,
      "outputs": [
        {
          "output_type": "stream",
          "name": "stdout",
          "text": [
            "Velocidad: 5.0 m/s\n"
          ]
        }
      ]
    },
    {
      "cell_type": "markdown",
      "source": [
        "## **Condicionales**"
      ],
      "metadata": {
        "id": "BqdO2_Z2RIMg"
      }
    },
    {
      "cell_type": "markdown",
      "source": [
        "#### Sin parámetro"
      ],
      "metadata": {
        "id": "1Q0rzPq8TR8n"
      }
    },
    {
      "cell_type": "code",
      "source": [
        "def verificar_si_puede_conducir_sin_parametros():\n",
        "  edad=int(input('Digite su edad: '))\n",
        "  if edad>=18:\n",
        "    print(\"Usted tiene la edad sufuciente para conducir.\")\n",
        "  else:\n",
        "    print(\"Usted aún no tiene la edad suficiente para conducir. \")\n",
        "verificar_si_puede_conducir_sin_parametros()"
      ],
      "metadata": {
        "colab": {
          "base_uri": "https://localhost:8080/"
        },
        "id": "1EFqrNSHS1EE",
        "outputId": "93cc90b3-3478-4f30-f399-4ffe17bce2b3"
      },
      "execution_count": 83,
      "outputs": [
        {
          "output_type": "stream",
          "name": "stdout",
          "text": [
            "Digite su edad: 18\n",
            "Usted tiene la edad sufuciente para conducir.\n"
          ]
        }
      ]
    },
    {
      "cell_type": "code",
      "source": [
        "def permiso_de_conducir():\n",
        " edad = int(input('¿Cuál es tu edad? '))\n",
        " if edad >= 18:\n",
        "   print('Ya tienes edad suficiente para obtener permiso de conducir')\n",
        " else:\n",
        "   tiempo = 18 - edad\n",
        "   print(f'Tranquilo, faltan {tiempo} año(s) para obtener permiso de conducir')\n",
        "\n",
        "permiso_de_conducir()"
      ],
      "metadata": {
        "colab": {
          "base_uri": "https://localhost:8080/"
        },
        "id": "2I79n_a5SGrn",
        "outputId": "1ad65521-5230-42b0-9cc3-3fc675066b5d"
      },
      "execution_count": 84,
      "outputs": [
        {
          "output_type": "stream",
          "name": "stdout",
          "text": [
            "¿Cuál es tu edad? 14\n",
            "Tranquilo, faltan 4 año(s) para obtener permiso de conducir\n"
          ]
        }
      ]
    },
    {
      "cell_type": "markdown",
      "source": [
        "#### Con parámetros"
      ],
      "metadata": {
        "id": "3GTNuq2VTZXn"
      }
    },
    {
      "cell_type": "code",
      "source": [
        "def verificar_si_puede_conducir(edad):\n",
        "  if edad>=18:\n",
        "    print(\"Usted tiene la edad sufuciente para conducir.\")\n",
        "  else:\n",
        "    print(\"Usted aún no tiene la edad suficiente para conducir. \")\n",
        "verificar_si_puede_conducir(18)"
      ],
      "metadata": {
        "colab": {
          "base_uri": "https://localhost:8080/"
        },
        "id": "6tKqlfTLQ8NM",
        "outputId": "0271edb5-770e-4470-a06b-ae65b838305a"
      },
      "execution_count": 85,
      "outputs": [
        {
          "output_type": "stream",
          "name": "stdout",
          "text": [
            "Usted tiene la edad sufuciente para conducir.\n"
          ]
        }
      ]
    },
    {
      "cell_type": "code",
      "source": [
        "verificar_si_puede_conducir(15)"
      ],
      "metadata": {
        "colab": {
          "base_uri": "https://localhost:8080/"
        },
        "id": "Dacfos1dRjSg",
        "outputId": "6821a2d1-2bce-44ce-9990-0f6ff41bb458"
      },
      "execution_count": 86,
      "outputs": [
        {
          "output_type": "stream",
          "name": "stdout",
          "text": [
            "Usted aún no tiene la edad suficiente para conducir. \n"
          ]
        }
      ]
    },
    {
      "cell_type": "code",
      "source": [
        "#Funcion de calificaciones NPS (Net Promoter Score)\n",
        "def clasificar_nps(nota):\n",
        "  if nota <= 6:\n",
        "    print('El alumno es considerado Detractor')\n",
        "  elif nota>6 and nota<= 8: \n",
        "    print('El alumno es considerado Neutro')\n",
        "  else:\n",
        "    print('El alumno es considerado Promotor')\n",
        "\n",
        "clasificar_nps(9)\n"
      ],
      "metadata": {
        "colab": {
          "base_uri": "https://localhost:8080/"
        },
        "id": "Blz_43kNRziZ",
        "outputId": "57e72278-ccb9-4209-c8ac-bf0de9f817bc"
      },
      "execution_count": 87,
      "outputs": [
        {
          "output_type": "stream",
          "name": "stdout",
          "text": [
            "El alumno es considerado Promotor\n"
          ]
        }
      ]
    },
    {
      "cell_type": "markdown",
      "source": [
        "## **Listas**"
      ],
      "metadata": {
        "id": "a3V9WjwGUCzH"
      }
    },
    {
      "cell_type": "code",
      "source": [
        "#Lista de edades\n",
        "edades=[13, 17,12, 45,60,18]\n",
        "edades"
      ],
      "metadata": {
        "colab": {
          "base_uri": "https://localhost:8080/"
        },
        "id": "LD2P5uNcUGFO",
        "outputId": "e70815ee-8a84-4f04-f8e2-ad9e43ca07c2"
      },
      "execution_count": 88,
      "outputs": [
        {
          "output_type": "execute_result",
          "data": {
            "text/plain": [
              "[13, 17, 12, 45, 60, 18]"
            ]
          },
          "metadata": {},
          "execution_count": 88
        }
      ]
    },
    {
      "cell_type": "code",
      "source": [
        "#Función type:identificador de tipo de variable\n",
        "type(edades)"
      ],
      "metadata": {
        "colab": {
          "base_uri": "https://localhost:8080/"
        },
        "id": "Pr-MPrZDUU3X",
        "outputId": "f09e0dab-691c-4e01-e65c-c1944913d738"
      },
      "execution_count": 89,
      "outputs": [
        {
          "output_type": "execute_result",
          "data": {
            "text/plain": [
              "list"
            ]
          },
          "metadata": {},
          "execution_count": 89
        }
      ]
    },
    {
      "cell_type": "code",
      "source": [
        "#Acceder a valores de la lista a traves de índices\n",
        "# [13, 17, 12, 45, 60, 18]\n",
        "#   0   1  2   3   4   5   Índices\n",
        "#   0  -5 -4  -3  -2  -1\n",
        "edades[2]"
      ],
      "metadata": {
        "colab": {
          "base_uri": "https://localhost:8080/"
        },
        "id": "oWvxyr5YUdGX",
        "outputId": "17aff828-a6f5-4d2e-e8e4-cfdecd634d80"
      },
      "execution_count": 90,
      "outputs": [
        {
          "output_type": "execute_result",
          "data": {
            "text/plain": [
              "12"
            ]
          },
          "metadata": {},
          "execution_count": 90
        }
      ]
    },
    {
      "cell_type": "code",
      "source": [
        "edades[-2]"
      ],
      "metadata": {
        "colab": {
          "base_uri": "https://localhost:8080/"
        },
        "id": "DMB3_A3NVRP4",
        "outputId": "7d64eeea-afcd-473d-b761-518359bff3a0"
      },
      "execution_count": 91,
      "outputs": [
        {
          "output_type": "execute_result",
          "data": {
            "text/plain": [
              "60"
            ]
          },
          "metadata": {},
          "execution_count": 91
        }
      ]
    },
    {
      "cell_type": "code",
      "source": [
        "#Función slice, excluye el último indice\n",
        "edades[3:4]"
      ],
      "metadata": {
        "colab": {
          "base_uri": "https://localhost:8080/"
        },
        "id": "nv94stWPUlxA",
        "outputId": "7f3d80b3-ae77-4d35-ec15-66f3de66424a"
      },
      "execution_count": 92,
      "outputs": [
        {
          "output_type": "execute_result",
          "data": {
            "text/plain": [
              "[45]"
            ]
          },
          "metadata": {},
          "execution_count": 92
        }
      ]
    },
    {
      "cell_type": "code",
      "source": [
        "edades[:]"
      ],
      "metadata": {
        "colab": {
          "base_uri": "https://localhost:8080/"
        },
        "id": "zpWrAhiuU891",
        "outputId": "57f0072c-4d6e-41d6-8554-089fc223355b"
      },
      "execution_count": 93,
      "outputs": [
        {
          "output_type": "execute_result",
          "data": {
            "text/plain": [
              "[13, 17, 12, 45, 60, 18]"
            ]
          },
          "metadata": {},
          "execution_count": 93
        }
      ]
    },
    {
      "cell_type": "code",
      "source": [
        "edades[1:]"
      ],
      "metadata": {
        "colab": {
          "base_uri": "https://localhost:8080/"
        },
        "id": "8E8E4RIsU-XA",
        "outputId": "cd03c708-002d-467c-ef5d-a9e202ebf732"
      },
      "execution_count": 94,
      "outputs": [
        {
          "output_type": "execute_result",
          "data": {
            "text/plain": [
              "[17, 12, 45, 60, 18]"
            ]
          },
          "metadata": {},
          "execution_count": 94
        }
      ]
    },
    {
      "cell_type": "code",
      "source": [
        "#Ejercicio de uso de indices\n",
        "frase_alura = [' Digitales', 'y ', 'Negocios ', 'de ', 'Tecnología ', 'Cursos ']\n",
        "frase_alura[-1] + frase_alura[3] + frase_alura[-2] + frase_alura[1] + frase_alura[2] + frase_alura[0]"
      ],
      "metadata": {
        "colab": {
          "base_uri": "https://localhost:8080/",
          "height": 36
        },
        "id": "62ao5wEZVCcg",
        "outputId": "aecadc01-1e6a-4f25-c2f1-0789f9916a98"
      },
      "execution_count": 95,
      "outputs": [
        {
          "output_type": "execute_result",
          "data": {
            "text/plain": [
              "'Cursos de Tecnología y Negocios  Digitales'"
            ],
            "application/vnd.google.colaboratory.intrinsic+json": {
              "type": "string"
            }
          },
          "metadata": {},
          "execution_count": 95
        }
      ]
    },
    {
      "cell_type": "markdown",
      "source": [
        "## **Bucles y ciclos**"
      ],
      "metadata": {
        "id": "HDTeuUl7Vs4L"
      }
    },
    {
      "cell_type": "markdown",
      "source": [
        "### **For**"
      ],
      "metadata": {
        "id": "IxRyZHtzV22s"
      }
    },
    {
      "cell_type": "code",
      "source": [
        "#Veridicar si las personas en la lista edades puede conducir\n",
        "\n",
        "#Bucle fuera de la función\n",
        "edades=[13, 17,12, 45,60,18]\n",
        "\n",
        "def verificar_si_puede_conducir(edad):\n",
        "  if edad>=18:\n",
        "    print(\"Usted tiene la edad sufuciente para conducir.\")\n",
        "  else:\n",
        "    print(\"Usted aún no tiene la edad suficiente para conducir. \")\n",
        "verificar_si_puede_conducir(18)"
      ],
      "metadata": {
        "colab": {
          "base_uri": "https://localhost:8080/"
        },
        "id": "v35Wv3XrVp_v",
        "outputId": "4577389c-2aa1-4d7b-fe00-fea629eb3036"
      },
      "execution_count": 96,
      "outputs": [
        {
          "output_type": "stream",
          "name": "stdout",
          "text": [
            "Usted tiene la edad sufuciente para conducir.\n"
          ]
        }
      ]
    },
    {
      "cell_type": "code",
      "source": [
        "for edad in edades:\n",
        "  verificar_si_puede_conducir(edad)"
      ],
      "metadata": {
        "colab": {
          "base_uri": "https://localhost:8080/"
        },
        "id": "J4lR1maYWLl4",
        "outputId": "69f53da2-a4c8-4da3-9b20-bed35a4892be"
      },
      "execution_count": 97,
      "outputs": [
        {
          "output_type": "stream",
          "name": "stdout",
          "text": [
            "Usted aún no tiene la edad suficiente para conducir. \n",
            "Usted aún no tiene la edad suficiente para conducir. \n",
            "Usted aún no tiene la edad suficiente para conducir. \n",
            "Usted tiene la edad sufuciente para conducir.\n",
            "Usted tiene la edad sufuciente para conducir.\n",
            "Usted tiene la edad sufuciente para conducir.\n"
          ]
        }
      ]
    },
    {
      "cell_type": "code",
      "source": [
        "#Bucle dentro de la función\n",
        "edades=[13, 17,12, 45,60,18]\n",
        "\n",
        "def verificar_si_puede_conducir_con_bucle(edades):\n",
        "  for edad in edades:\n",
        "    if edad>=18:\n",
        "      print(\"Usted tiene la edad sufuciente para conducir.\")\n",
        "    else:\n",
        "      print(\"Usted aún no tiene la edad suficiente para conducir. \")\n",
        "verificar_si_puede_conducir_con_bucle(edades)"
      ],
      "metadata": {
        "colab": {
          "base_uri": "https://localhost:8080/"
        },
        "id": "3ATM1ej-WRX0",
        "outputId": "e98e6959-4e02-4c20-cddd-ae51a00c4e37"
      },
      "execution_count": 98,
      "outputs": [
        {
          "output_type": "stream",
          "name": "stdout",
          "text": [
            "Usted aún no tiene la edad suficiente para conducir. \n",
            "Usted aún no tiene la edad suficiente para conducir. \n",
            "Usted aún no tiene la edad suficiente para conducir. \n",
            "Usted tiene la edad sufuciente para conducir.\n",
            "Usted tiene la edad sufuciente para conducir.\n",
            "Usted tiene la edad sufuciente para conducir.\n"
          ]
        }
      ]
    },
    {
      "cell_type": "code",
      "source": [
        "def clasificar_nps(notas):\n",
        "  for nota in notas:\n",
        "    if nota <= 6:\n",
        "      print('El alumno es considerado Detractor')\n",
        "    else:\n",
        "      if nota <= 8: \n",
        "        print('El alumno es considerado Neutro')\n",
        "      else:\n",
        "        print('El alumno es considerado Promotor')\n",
        "\n",
        "clasificar_nps([9,8,10,6,7])"
      ],
      "metadata": {
        "colab": {
          "base_uri": "https://localhost:8080/"
        },
        "id": "aTl5CU3DWwr1",
        "outputId": "f5315646-5e53-4b4b-d814-08f5a5544a94"
      },
      "execution_count": 99,
      "outputs": [
        {
          "output_type": "stream",
          "name": "stdout",
          "text": [
            "El alumno es considerado Promotor\n",
            "El alumno es considerado Neutro\n",
            "El alumno es considerado Promotor\n",
            "El alumno es considerado Detractor\n",
            "El alumno es considerado Neutro\n"
          ]
        }
      ]
    },
    {
      "cell_type": "markdown",
      "source": [
        "#### Con diferentes tipos de datos\n"
      ],
      "metadata": {
        "id": "2SCNfoRMYiZ8"
      }
    },
    {
      "cell_type": "code",
      "source": [
        "persona = ['Mariana',25,True,'México',3.14]\n",
        "persona"
      ],
      "metadata": {
        "colab": {
          "base_uri": "https://localhost:8080/"
        },
        "id": "DcQFe3MmYuJQ",
        "outputId": "e47780cf-c435-4a7e-b15f-05b4d2ea22a2"
      },
      "execution_count": 100,
      "outputs": [
        {
          "output_type": "execute_result",
          "data": {
            "text/plain": [
              "['Mariana', 25, True, 'México', 3.14]"
            ]
          },
          "metadata": {},
          "execution_count": 100
        }
      ]
    },
    {
      "cell_type": "code",
      "source": [
        "for elemento in persona:\n",
        "  print(f'El elemento {elemento} de la lista es del tipo: ', type(elemento))\n",
        "     "
      ],
      "metadata": {
        "colab": {
          "base_uri": "https://localhost:8080/"
        },
        "id": "TPrbXFmKYyE9",
        "outputId": "46a78318-0513-4486-88b1-87d387e6f584"
      },
      "execution_count": 101,
      "outputs": [
        {
          "output_type": "stream",
          "name": "stdout",
          "text": [
            "El elemento Mariana de la lista es del tipo:  <class 'str'>\n",
            "El elemento 25 de la lista es del tipo:  <class 'int'>\n",
            "El elemento True de la lista es del tipo:  <class 'bool'>\n",
            "El elemento México de la lista es del tipo:  <class 'str'>\n",
            "El elemento 3.14 de la lista es del tipo:  <class 'float'>\n"
          ]
        }
      ]
    },
    {
      "cell_type": "markdown",
      "source": [
        "## **Booleano**"
      ],
      "metadata": {
        "id": "NnuihBl5YEsG"
      }
    },
    {
      "cell_type": "code",
      "source": [
        "edad=17\n",
        "edad>=18"
      ],
      "metadata": {
        "colab": {
          "base_uri": "https://localhost:8080/"
        },
        "id": "DCMFHFnmXv-r",
        "outputId": "d6d1e37b-cb75-4d20-dd1f-5ce4f38965e8"
      },
      "execution_count": 102,
      "outputs": [
        {
          "output_type": "execute_result",
          "data": {
            "text/plain": [
              "False"
            ]
          },
          "metadata": {},
          "execution_count": 102
        }
      ]
    },
    {
      "cell_type": "code",
      "source": [
        "edad<18"
      ],
      "metadata": {
        "colab": {
          "base_uri": "https://localhost:8080/"
        },
        "id": "IO82XcnbYOmD",
        "outputId": "7de77b15-a1f1-466a-95c7-e963ec7b5db4"
      },
      "execution_count": 103,
      "outputs": [
        {
          "output_type": "execute_result",
          "data": {
            "text/plain": [
              "True"
            ]
          },
          "metadata": {},
          "execution_count": 103
        }
      ]
    },
    {
      "cell_type": "code",
      "source": [
        "edad==18"
      ],
      "metadata": {
        "colab": {
          "base_uri": "https://localhost:8080/"
        },
        "id": "qHxWvh-OYQgv",
        "outputId": "dfb23164-2fd2-4d10-a651-e766bafeed02"
      },
      "execution_count": 104,
      "outputs": [
        {
          "output_type": "execute_result",
          "data": {
            "text/plain": [
              "False"
            ]
          },
          "metadata": {},
          "execution_count": 104
        }
      ]
    },
    {
      "cell_type": "code",
      "source": [
        "#Hacer uso de los valores booleanos para utilizar condicionales\n",
        "verificaciones = []\n",
        "edades = [13,15,20]\n",
        "\n",
        "def verificar_si_puede_conducir_bool(verificaciones,edades):\n",
        "  for edad in edades:\n",
        "    #Función append para agregar valores a la listas\n",
        "    if edad >= 18:\n",
        "      verificaciones.append(True)\n",
        "    else:\n",
        "      verificaciones.append(False)\n",
        "  for verificacion in verificaciones:\n",
        "    if verificacion == True:\n",
        "      print('Usted tiene edad suficiente para conducir')\n",
        "    else:\n",
        "      print(\"Usted aún NO tiene edad suficiente para conducir\")\n",
        "\n",
        "verificar_si_puede_conducir_bool(verificaciones,edades)\n"
      ],
      "metadata": {
        "colab": {
          "base_uri": "https://localhost:8080/"
        },
        "id": "33q9YfpkYR_l",
        "outputId": "d82f2252-d95d-4507-ceef-6ec75b9fdea8"
      },
      "execution_count": 105,
      "outputs": [
        {
          "output_type": "stream",
          "name": "stdout",
          "text": [
            "Usted aún NO tiene edad suficiente para conducir\n",
            "Usted aún NO tiene edad suficiente para conducir\n",
            "Usted tiene edad suficiente para conducir\n"
          ]
        }
      ]
    },
    {
      "cell_type": "code",
      "source": [
        "#Resultados guardados en la lista de verificaciones\n",
        "verificaciones"
      ],
      "metadata": {
        "colab": {
          "base_uri": "https://localhost:8080/"
        },
        "id": "Apw2Q7KIYVQY",
        "outputId": "37bad7ab-1c79-408f-87ea-cc85b4cfcbe2"
      },
      "execution_count": 106,
      "outputs": [
        {
          "output_type": "execute_result",
          "data": {
            "text/plain": [
              "[False, False, True]"
            ]
          },
          "metadata": {},
          "execution_count": 106
        }
      ]
    },
    {
      "cell_type": "code",
      "source": [
        "# Ejercicio práctico de booleanos y condicionales\n",
        "a=2\n",
        "\n",
        "if a < 2:\n",
        " a = a + 1\n",
        "else:\n",
        " a = a + 2\n",
        "if a < 4:\n",
        " a = a - 4\n",
        "else:\n",
        " a = a + 6\n",
        "\n",
        "a"
      ],
      "metadata": {
        "colab": {
          "base_uri": "https://localhost:8080/"
        },
        "id": "6JpoCS3TYbr7",
        "outputId": "718e29f2-4595-4f01-8054-938c10d97885"
      },
      "execution_count": 107,
      "outputs": [
        {
          "output_type": "execute_result",
          "data": {
            "text/plain": [
              "10"
            ]
          },
          "metadata": {},
          "execution_count": 107
        }
      ]
    },
    {
      "cell_type": "markdown",
      "source": [
        "## **Librerías**\n",
        "Agregar librerías a python"
      ],
      "metadata": {
        "id": "VAk0Pl0Pafiv"
      }
    },
    {
      "cell_type": "markdown",
      "source": [
        "#### Random"
      ],
      "metadata": {
        "id": "pAruKj2ibZ7G"
      }
    },
    {
      "cell_type": "code",
      "source": [
        "#Importando librerías\n",
        "from random import randrange,seed"
      ],
      "metadata": {
        "id": "LrXdEjpeaNMy"
      },
      "execution_count": 115,
      "outputs": []
    },
    {
      "cell_type": "code",
      "source": [
        "#Obtener un número aleatorio de 0 a 11\n",
        "randrange(0,11)"
      ],
      "metadata": {
        "colab": {
          "base_uri": "https://localhost:8080/"
        },
        "id": "_YrjksT0b1fL",
        "outputId": "8a025fb5-4415-49e6-9ea3-784c7878efe7"
      },
      "execution_count": 116,
      "outputs": [
        {
          "output_type": "execute_result",
          "data": {
            "text/plain": [
              "1"
            ]
          },
          "metadata": {},
          "execution_count": 116
        }
      ]
    },
    {
      "cell_type": "code",
      "source": [
        "notas_matematicas=[]\n",
        "notas_matematicas.append(randrange(0,10))"
      ],
      "metadata": {
        "id": "D3YisUk9bwZ3"
      },
      "execution_count": 117,
      "outputs": []
    },
    {
      "cell_type": "code",
      "source": [
        "#Uso de ciclo for para optimizar el código\n",
        "notas_matematicas=[]\n",
        "seed(8)\n",
        "for notas in range(6):\n",
        "  notas_matematicas.append(randrange(0,10))"
      ],
      "metadata": {
        "id": "uXevkfh-cY4Q"
      },
      "execution_count": 118,
      "outputs": []
    },
    {
      "cell_type": "code",
      "source": [
        "notas_matematicas"
      ],
      "metadata": {
        "colab": {
          "base_uri": "https://localhost:8080/"
        },
        "id": "tgm_LjTFchlH",
        "outputId": "b67cf379-1f3a-493f-a854-21ca6ee08ecb"
      },
      "execution_count": 120,
      "outputs": [
        {
          "output_type": "execute_result",
          "data": {
            "text/plain": [
              "[3, 5, 6, 2, 3, 0]"
            ]
          },
          "metadata": {},
          "execution_count": 120
        }
      ]
    },
    {
      "cell_type": "code",
      "source": [
        "#Función len para conocer el tamaño de la lista\n",
        "len(notas_matematicas)"
      ],
      "metadata": {
        "colab": {
          "base_uri": "https://localhost:8080/"
        },
        "id": "q5wjsrkHcprF",
        "outputId": "6f830d55-ad81-440b-c4dc-e0e70e27d21f"
      },
      "execution_count": 121,
      "outputs": [
        {
          "output_type": "execute_result",
          "data": {
            "text/plain": [
              "6"
            ]
          },
          "metadata": {},
          "execution_count": 121
        }
      ]
    },
    {
      "cell_type": "markdown",
      "source": [
        "#### Matplotlib"
      ],
      "metadata": {
        "id": "n2qO53rWdukw"
      }
    },
    {
      "cell_type": "code",
      "source": [
        "import matplotlib.pyplot as plt"
      ],
      "metadata": {
        "id": "QpeTT4NLdPt3"
      },
      "execution_count": 128,
      "outputs": []
    },
    {
      "cell_type": "code",
      "source": [
        "list(range(1,7))"
      ],
      "metadata": {
        "colab": {
          "base_uri": "https://localhost:8080/"
        },
        "id": "MXsMPYPsdzhZ",
        "outputId": "450c2cc7-46d7-4105-ca75-84952969a40a"
      },
      "execution_count": 129,
      "outputs": [
        {
          "output_type": "execute_result",
          "data": {
            "text/plain": [
              "[1, 2, 3, 4, 5, 6]"
            ]
          },
          "metadata": {},
          "execution_count": 129
        }
      ]
    },
    {
      "cell_type": "code",
      "source": [
        "x = list(range(1,7))\n",
        "y = notas_matematicas\n",
        "\n",
        "plt.plot(x,y, marker='o',color='green')\n",
        "plt.title('Gráfico de las notas de Matemáticas')\n",
        "plt.xlabel('Pruebas')\n",
        "plt.ylabel('Notas')\n",
        "plt.show()\n",
        "     "
      ],
      "metadata": {
        "colab": {
          "base_uri": "https://localhost:8080/",
          "height": 295
        },
        "id": "u9tk6PRKd2dS",
        "outputId": "8b969fb6-cc41-497b-e070-3711b800d4e1"
      },
      "execution_count": 131,
      "outputs": [
        {
          "output_type": "display_data",
          "data": {
            "text/plain": [
              "<Figure size 432x288 with 1 Axes>"
            ],
            "image/png": "[encoded data removed]"
          },
          "metadata": {
            "needs_background": "light"
          }
        }
      ]
    }
  ]
}