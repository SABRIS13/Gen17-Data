{
 "cells": [
  {
   "cell_type": "markdown",
   "metadata": {},
   "source": [
    "# Funciones"
   ]
  },
  {
   "cell_type": "markdown",
   "metadata": {},
   "source": [
    "##### 1. Write a Python function to find the Max of three numbers."
   ]
  },
  {
   "cell_type": "code",
   "execution_count": 1,
   "metadata": {},
   "outputs": [
    {
     "name": "stdout",
     "output_type": "stream",
     "text": [
      "3\n",
      "19\n",
      "104\n",
      "-2\n"
     ]
    }
   ],
   "source": [
    "def max_3_num(x,y,z):\n",
    "    return max(x,y,z)\n",
    "print(max_3_num(1,2,3))\n",
    "print(max_3_num(-5,19,10))\n",
    "print(max_3_num(89,100,104))\n",
    "print(max_3_num(-3,-6,-2))"
   ]
  },
  {
   "cell_type": "markdown",
   "metadata": {},
   "source": [
    "##### 2. Write a Python function to sum all the numbers in a list."
   ]
  },
  {
   "cell_type": "code",
   "execution_count": 4,
   "metadata": {},
   "outputs": [
    {
     "name": "stdout",
     "output_type": "stream",
     "text": [
      "La suma total es 21.\n",
      "La suma total es 20.\n",
      "La suma total es 20.\n"
     ]
    }
   ],
   "source": [
    "def sum_lis(num):\n",
    "    print(f\"La suma total es {sum(num)}.\")\n",
    "\n",
    "lista1=[1,2,3,4,5,6]\n",
    "sum_lis(lista1)\n",
    "lista2=[3,4,3,5,5]\n",
    "sum_lis(lista2)\n",
    "lista3=[8,2,3,0,7]\n",
    "sum_lis(lista3)"
   ]
  },
  {
   "cell_type": "markdown",
   "metadata": {},
   "source": [
    "##### 3.  Write a Python function to multiply all the numbers in a list. "
   ]
  },
  {
   "cell_type": "code",
   "execution_count": 5,
   "metadata": {},
   "outputs": [
    {
     "name": "stdout",
     "output_type": "stream",
     "text": [
      "20\n",
      "0\n",
      "-336\n"
     ]
    }
   ],
   "source": [
    "def multiplicar_valores(x):\n",
    "    result=1\n",
    "    for i in x:\n",
    "        result*=i\n",
    "    print(result)\n",
    "\n",
    "lista4=[1,4,5]\n",
    "multiplicar_valores(lista4)\n",
    "lista5=[8,2,3,0]\n",
    "multiplicar_valores(lista5)\n",
    "lista6=[8,2,3,-1,7]\n",
    "multiplicar_valores(lista6)"
   ]
  },
  {
   "cell_type": "markdown",
   "metadata": {},
   "source": [
    "##### 4. Write a Python program to reverse a string. "
   ]
  },
  {
   "cell_type": "code",
   "execution_count": 6,
   "metadata": {},
   "outputs": [
    {
     "name": "stdout",
     "output_type": "stream",
     "text": [
      "aloH\n",
      "?lat euQ¿\n",
      "dcba4321\n"
     ]
    }
   ],
   "source": [
    "def reverse_str(text):\n",
    "    print(text[::-1])\n",
    "reverse_str(\"Hola\")\n",
    "reverse_str(\"¿Que tal?\")\n",
    "reverse_str(\"1234abcd\")"
   ]
  },
  {
   "cell_type": "markdown",
   "metadata": {},
   "source": [
    "##### 5. Write a Python function to calculate the factorial of a number (a non-negative integer). The function accepts the number as an argument. "
   ]
  },
  {
   "cell_type": "code",
   "execution_count": 5,
   "metadata": {},
   "outputs": [
    {
     "name": "stdout",
     "output_type": "stream",
     "text": [
      "El factorial de 0 es 1.\n",
      "El factorial de 1 es 1.\n",
      "El factorial de 4 es 24.\n",
      "El factorial de 5 es 120.\n",
      "El factorial de 6 es 720.\n"
     ]
    }
   ],
   "source": [
    "\n",
    "def factorial_num(x):\n",
    "    fact=1\n",
    "    for i in range (1,x+1):\n",
    "        fact *=i\n",
    "    print(f\"El factorial de {x} es {fact}.\")\n",
    "\n",
    "factorial_num(x=abs(int(input(\"¿De qué número necesitas el factorial?\"))))\n",
    "factorial_num(1)\n",
    "factorial_num(4)\n",
    "factorial_num(5)\n",
    "factorial_num(6)"
   ]
  },
  {
   "cell_type": "markdown",
   "metadata": {},
   "source": [
    "##### 6. Write a Python function to check whether a number falls in a given range. "
   ]
  },
  {
   "cell_type": "code",
   "execution_count": 8,
   "metadata": {},
   "outputs": [
    {
     "name": "stdout",
     "output_type": "stream",
     "text": [
      "3 esta en el rango espeficicado\n",
      "-1 esta en el rango espeficicado\n",
      "0.5 no está en el rango especificado\n"
     ]
    }
   ],
   "source": [
    "#Función para números enteros:\n",
    "def a_in_range(a,n,m):\n",
    "\n",
    "    if a in range(n,m):\n",
    "        print(f\"{a} esta en el rango espeficicado\")\n",
    "    else:\n",
    "        print(f\"{a} no está en el rango especificado\")\n",
    "\n",
    "a_in_range(3,2,5)\n",
    "a_in_range(-1,-5,0)\n",
    "a_in_range(.5,2,3)\n",
    "\n"
   ]
  },
  {
   "cell_type": "code",
   "execution_count": 9,
   "metadata": {},
   "outputs": [
    {
     "name": "stdout",
     "output_type": "stream",
     "text": [
      "3 esta en el rango espeficicado\n",
      "-1 esta en el rango espeficicado\n",
      "0.5 no está en el rango especificado\n",
      "0.5 esta en el rango espeficicado\n"
     ]
    }
   ],
   "source": [
    "# Para números enteros y decimales\n",
    "def x_in_range(x,n,m):\n",
    "\n",
    "    if x<=m and x>=n :\n",
    "        print(f\"{x} esta en el rango espeficicado\")\n",
    "    else:\n",
    "        print(f\"{x} no está en el rango especificado\")\n",
    "\n",
    "x_in_range(3,2,5)\n",
    "x_in_range(-1,-5,0)\n",
    "x_in_range(.5,2,3)\n",
    "x_in_range(.5,.1,1.5)\n"
   ]
  },
  {
   "cell_type": "markdown",
   "metadata": {},
   "source": [
    "##### 7. Write a Python function that accepts a string and calculate the number of upper case letters and lower case letters."
   ]
  },
  {
   "cell_type": "code",
   "execution_count": 6,
   "metadata": {},
   "outputs": [
    {
     "name": "stdout",
     "output_type": "stream",
     "text": [
      "En el texto -Hola mi nombre es SC- hay un total de 3 mayusculas y  13 minusculas.\n",
      "En el texto -WE ARE fine- hay un total de 5 mayusculas y  4 minusculas.\n",
      "En el texto -¡HEllo!- hay un total de 2 mayusculas y  3 minusculas.\n",
      "En el texto -¡¡OOOhhh!!- hay un total de 3 mayusculas y  3 minusculas.\n"
     ]
    }
   ],
   "source": [
    "def count_upper_lower(string):\n",
    "    count_mayus=0\n",
    "    count_minus=0\n",
    "    for letter in string:\n",
    "        if letter.isupper():\n",
    "            count_mayus +=1\n",
    "        elif letter.islower():\n",
    "            count_minus +=1\n",
    "        else:\n",
    "            pass\n",
    "    print (f\"En el texto -{string}- hay un total de {count_mayus} mayusculas y  {count_minus} minusculas.\")\n",
    "\n",
    "count_upper_lower(\"Hola mi nombre es SC\")\n",
    "count_upper_lower(\"WE ARE fine\")\n",
    "count_upper_lower(\"¡HEllo!\")\n",
    "count_upper_lower(\"¡¡OOOhhh!!\")"
   ]
  },
  {
   "cell_type": "markdown",
   "metadata": {},
   "source": [
    "#### 8. Write a Python function that takes a list and returns a new list with unique elements of the first list."
   ]
  },
  {
   "cell_type": "code",
   "execution_count": 11,
   "metadata": {},
   "outputs": [
    {
     "name": "stdout",
     "output_type": "stream",
     "text": [
      "[1, 3, 4, 5, 6, 7, 8]\n",
      "[1, 0, 6]\n",
      "[1, 2, 3, 4, 5]\n"
     ]
    }
   ],
   "source": [
    "def valores_unicos(nums):\n",
    "    lista_unica=[]\n",
    "    for num in nums:\n",
    "        if num not in lista_unica:\n",
    "            lista_unica.append(num)\n",
    "    print(lista_unica)\n",
    "\n",
    "lista7=[1,1,1,3,3,4,5,6,7,8]\n",
    "valores_unicos(lista7)\n",
    "lista8=[1,0,0,0,0,6,1,1,1,1]\n",
    "valores_unicos(lista8)\n",
    "lista9=[1,2,3,3,3,3,4,5]\n",
    "valores_unicos(lista9)"
   ]
  },
  {
   "cell_type": "markdown",
   "metadata": {},
   "source": [
    "#### 9. Write a Python function that takes a number as a parameter and check the number is prime or not. "
   ]
  },
  {
   "cell_type": "code",
   "execution_count": 12,
   "metadata": {},
   "outputs": [
    {
     "name": "stdout",
     "output_type": "stream",
     "text": [
      "2 es primo\n",
      "1 no es primo.\n",
      "3 es primo.\n",
      "0 no es primo.\n",
      "41 es primo.\n",
      "10 no es primo.\n"
     ]
    }
   ],
   "source": [
    "def primo(num):\n",
    "    if num==0 or num==1:\n",
    "        return f\"{num} no es primo.\"\n",
    "    elif num==2:\n",
    "        return f\"{num} es primo\"\n",
    "    else:\n",
    "        for x in range(2,num):\n",
    "            if num%x==0:\n",
    "                return f\"{num} no es primo.\"\n",
    "    return f\"{num} es primo.\"\n",
    "print(primo(2))\n",
    "print(primo(1))\n",
    "print(primo(3))\n",
    "print(primo(0))\n",
    "print(primo(41))\n",
    "print(primo(10))\n",
    "\n"
   ]
  },
  {
   "cell_type": "markdown",
   "metadata": {},
   "source": [
    "#### 10. Write a Python program to print the even numbers from a given list."
   ]
  },
  {
   "cell_type": "code",
   "execution_count": 13,
   "metadata": {},
   "outputs": [
    {
     "name": "stdout",
     "output_type": "stream",
     "text": [
      "[2, 4, 6, 8]\n",
      "[42, 56, 78, 90, 34]\n",
      "[234, 678, 908, 78, 234]\n"
     ]
    }
   ],
   "source": [
    "def even_num(lista_num):\n",
    "    lista_even=[]\n",
    "    for x in lista_num:\n",
    "        if x%2==0:\n",
    "            lista_even.append(x)\n",
    "    print(lista_even)\n",
    "lista10=[1,2,3,4,5,6,7,8,9]\n",
    "even_num(lista10)\n",
    "lista11=[21,42,56,78,90,34,57,45]\n",
    "even_num(lista11)\n",
    "lista12=[234,678,908,78,45,43,234,231,257]\n",
    "even_num(lista12)\n"
   ]
  },
  {
   "cell_type": "markdown",
   "metadata": {},
   "source": [
    "#### 11. Write a Python function to check whether a number is perfect or not. "
   ]
  },
  {
   "cell_type": "code",
   "execution_count": 14,
   "metadata": {},
   "outputs": [
    {
     "name": "stdout",
     "output_type": "stream",
     "text": [
      "El número 2 no es un número perfecto.\n",
      "El número 6 es un número perfecto.\n",
      "El número 15 no es un número perfecto.\n",
      "El número 28 es un número perfecto.\n",
      "El número 496 es un número perfecto.\n",
      "El número 8128 es un número perfecto.\n",
      "El número 100 no es un número perfecto.\n"
     ]
    }
   ],
   "source": [
    "def perferc_num(num):\n",
    "    count=0\n",
    "    for i in range(1,num):\n",
    "        if num%i==0:\n",
    "            count+=i\n",
    "    if count==num:\n",
    "        print(f\"El número {num} es un número perfecto.\")\n",
    "    else:\n",
    "        print(f\"El número {num} no es un número perfecto.\")\n",
    "perferc_num(2)\n",
    "perferc_num(6)\n",
    "perferc_num(15)\n",
    "perferc_num(28)\n",
    "perferc_num(496)\n",
    "perferc_num(8128)\n",
    "perferc_num(100)"
   ]
  },
  {
   "cell_type": "markdown",
   "metadata": {},
   "source": [
    "#### 12. Write a Python function that checks whether a passed string is palindrome or not. "
   ]
  },
  {
   "cell_type": "code",
   "execution_count": 7,
   "metadata": {},
   "outputs": [
    {
     "name": "stdout",
     "output_type": "stream",
     "text": [
      "El texto: -oso- es un palindromo.\n",
      "El texto: -Anita lava la tina- es un palindromo.\n",
      "El texto -Edgar- no es palindromo.\n",
      "El texto: -Luz azul- es un palindromo.\n",
      "El texto: -Ají traga la lagartija- es un palindromo.\n"
     ]
    }
   ],
   "source": [
    "def palindrome(string):\n",
    "    strs=string.replace(\" \",\"\")\n",
    "    strs_sin_acentos =strs.translate(strs.maketrans(\"áàäéèëíìïòóöùúüÀÁÄÈÉËÌÍÏÒÓÖÙÚÜñ\", \"aaaeeeiiiooouuuAAAEEEIIIOOOUUUn\"))\n",
    "    strs_lower=strs_sin_acentos.lower()\n",
    "    if strs_lower==strs_lower[::-1]:\n",
    "        print(f\"El texto: -{string}- es un palindromo.\")\n",
    "    else:\n",
    "        print(f\"El texto -{string}- no es palindromo.\")\n",
    "palindrome(\"oso\")\n",
    "palindrome(\"Anita lava la tina\")\n",
    "palindrome(\"Edgar\")\n",
    "palindrome(\"Luz azul\")\n",
    "palindrome(\"Ají traga la lagartija\")"
   ]
  },
  {
   "cell_type": "markdown",
   "metadata": {},
   "source": [
    "#### 13. Write a Python function that prints out the first n rows of Pascal's triangle."
   ]
  },
  {
   "cell_type": "code",
   "execution_count": 69,
   "metadata": {},
   "outputs": [
    {
     "name": "stdout",
     "output_type": "stream",
     "text": [
      "[1]\n",
      "[1, 1]\n",
      "[1, 2, 1]\n",
      "[1, 3, 3, 1]\n",
      "[1, 4, 6, 4, 1]\n",
      "[1, 5, 10, 10, 5, 1]\n",
      "[1, 6, 15, 20, 15, 6, 1]\n",
      "[1, 7, 21, 35, 35, 21, 7, 1]\n",
      "[1, 8, 28, 56, 70, 56, 28, 8, 1]\n",
      "[1, 9, 36, 84, 126, 126, 84, 36, 9, 1]\n",
      "[1, 10, 45, 120, 210, 252, 210, 120, 45, 10, 1]\n"
     ]
    }
   ],
   "source": [
    "def factorial_num(x):\n",
    "    fact=1\n",
    "    for i in range (1,x+1):\n",
    "        fact *=i\n",
    "    return fact\n",
    "\n",
    "def triangulo_pascal(rows):\n",
    "    tri_pascal=0\n",
    "    n=0\n",
    "    while tri_pascal<=rows:\n",
    "        rows_pascal=[]\n",
    "        for k in range(n+1):\n",
    "            num=(factorial_num(n))/(factorial_num(k)*factorial_num(n-k))\n",
    "            rows_pascal.append(int(num))\n",
    "        print(rows_pascal)\n",
    "        tri_pascal+=1\n",
    "        n+=1\n",
    "\n",
    "triangulo_pascal(10)\n"
   ]
  },
  {
   "cell_type": "markdown",
   "metadata": {},
   "source": [
    "#### 14. Write a Python function to check whether a string is a pangram or not."
   ]
  },
  {
   "cell_type": "code",
   "execution_count": 8,
   "metadata": {},
   "outputs": [
    {
     "name": "stdout",
     "output_type": "stream",
     "text": [
      "El texto -The quick brown fox jumps over the lazy dog- es un panagrama\n",
      "El texto -Sabris- no es un panagrama\n",
      "El texto -oso- no es un panagrama\n",
      "El texto -Benjamín pidió una bebida de kiwi y fresa. Noé, sin vergüenza, la más exquisita champaña del menú.- es un panagrama\n",
      "El texto - El veloz murciélago hindú comía feliz cardillo y kiwi. La cigüeña tocaba el saxofón detrás del palenque de paja.- es un panagrama\n",
      "El texto - El veloz murciélago hindú comía feliz cardillo y ki-i. La cigüeña tocaba el saxofón detrás del palenque de paja.- no es un panagrama\n"
     ]
    }
   ],
   "source": [
    "def pangram(text):\n",
    "    text_simple=text.translate(text.maketrans(\"áàäéèëíìïòóöùúüÀÁÄÈÉËÌÍÏÒÓÖÙÚÜñ\", \"aaaeeeiiiooouuuAAAEEEIIIOOOUUUn\"))\n",
    "    text_lower=text_simple.lower()\n",
    "    abc=[\"a\",\"b\",\"c\",\"d\",\"e\",\"f\",\"g\",\"h\",\"i\",\"j\",\"k\",\"l\",\"m\",\"n\",\"o\",\"p\",\"q\",\"r\",\"s\",\"t\",\"u\",\"v\",\"w\",\"x\",\"y\",\"z\"]\n",
    "    pram=True\n",
    "    for letter in abc:\n",
    "        if letter not in text_lower:\n",
    "            pram=False\n",
    "            break\n",
    "    if pram==False:\n",
    "        print(f\"El texto -{text}- no es un panagrama\")\n",
    "    else:\n",
    "        print(f\"El texto -{text}- es un panagrama\")\n",
    "\n",
    "     \n",
    "pangram(\"The quick brown fox jumps over the lazy dog\")\n",
    "pangram(\"Sabris\")\n",
    "pangram(\"oso\")\n",
    "pangram(\"Benjamín pidió una bebida de kiwi y fresa. Noé, sin vergüenza, la más exquisita champaña del menú.\")\n",
    "pangram(\" El veloz murciélago hindú comía feliz cardillo y kiwi. La cigüeña tocaba el saxofón detrás del palenque de paja.\")\n",
    "pangram(\" El veloz murciélago hindú comía feliz cardillo y ki-i. La cigüeña tocaba el saxofón detrás del palenque de paja.\")"
   ]
  },
  {
   "cell_type": "markdown",
   "metadata": {},
   "source": [
    "#### 15. Write a Python program that accepts a hyphen-separated sequence of words as input and prints the words in a hyphen-separated sequence after sorting them alphabetically."
   ]
  },
  {
   "cell_type": "code",
   "execution_count": null,
   "metadata": {},
   "outputs": [
    {
     "name": "stdout",
     "output_type": "stream",
     "text": [
      "black-blue-green-yellow\n",
      "Ana-Angel-Bianca-Carlos-Luis\n",
      "CDMX-LA-London-Paris-Venecia\n",
      "black-green-red-white-yellow\n"
     ]
    }
   ],
   "source": [
    "def sequence_order(words):\n",
    "    words_separete=words.split(\"-\")\n",
    "    list(words_separete)\n",
    "    words_separete.sort()\n",
    "    print(\"-\".join(words_separete))\n",
    "    \n",
    "\n",
    "sequence_order(\"blue-green-black-yellow\")\n",
    "sequence_order(\"Luis-Angel-Ana-Carlos-Bianca\")\n",
    "sequence_order(\"LA-Venecia-CDMX-London-Paris\")\n",
    "sequence_order(\"green-red-yellow-black-white\")\n",
    "\n"
   ]
  },
  {
   "cell_type": "markdown",
   "metadata": {},
   "source": [
    "#### 16. Write a Python function to create and print a list where the values are square of numbers between 1 and 30 (both included). "
   ]
  },
  {
   "cell_type": "code",
   "execution_count": null,
   "metadata": {},
   "outputs": [
    {
     "name": "stdout",
     "output_type": "stream",
     "text": [
      "[1, 4, 9, 16, 25, 36, 49, 64, 81, 100, 121, 144, 169, 196, 225, 256, 289, 324, 361, 400, 441, 484, 529, 576, 625, 676, 729, 784, 841, 900]\n"
     ]
    }
   ],
   "source": [
    "def square_num():\n",
    "    list_square=[]\n",
    "    for n in range(1,31):\n",
    "        m=n**2\n",
    "        list_square.append(m)\n",
    "    print(list_square)\n",
    "\n",
    "square_num()"
   ]
  },
  {
   "cell_type": "markdown",
   "metadata": {},
   "source": [
    "#### 17. Write a Python program to make a chain of function decorators (bold, italic, underline etc.) in Python. "
   ]
  },
  {
   "cell_type": "code",
   "execution_count": 2,
   "metadata": {},
   "outputs": [
    {
     "name": "stdout",
     "output_type": "stream",
     "text": [
      "\u001b[1m Sabrina \u001b[0m\n",
      "\u001b[4m Beth \u001b[0m\n",
      "\u001b[3m Agus \u001b[0m\n",
      "\u001b[36m Edgaus \u001b[0m\n",
      "\u001b[95m ¡Hola! \u001b[0m\n",
      "\u001b[93m Don´t worry be happy \u001b[0m\n",
      "\u001b[94m Era el mejor de los tiempos, era el peor de los tiempos... \u001b[0m\n",
      "\u001b[96m Amo las combinaciones de colores \u001b[0m\n",
      "\u001b[91m Je t´aime \u001b[0m\n",
      "\u001b[92m World \u001b[0m\n",
      "\u001b[35m :) \u001b[0m\n"
     ]
    }
   ],
   "source": [
    "def decorators(type,text):\n",
    "    if type==\"bold\":\n",
    "        print('\\033[1m',text,'\\033[0m')\n",
    "    elif type==\"italic\":\n",
    "        print('\\033[3m',text,'\\033[0m')\n",
    "    elif type==\"underline\":\n",
    "        print('\\033[4m',text,'\\033[0m')\n",
    "    elif type==\"darkcyan\":\n",
    "        print('\\033[36m',text,'\\033[0m')\n",
    "    elif type==\"purple\":\n",
    "        print('\\033[95m',text,'\\033[0m')\n",
    "    elif type==\"blue\":\n",
    "        print('\\033[94m',text,'\\033[0m')\n",
    "    elif type==\"yellow\":\n",
    "        print('\\033[93m',text,'\\033[0m')\n",
    "    elif type==\"cyan\":\n",
    "        print('\\033[96m',text,'\\033[0m')\n",
    "    elif type==\"red\":\n",
    "        print('\\033[91m',text,'\\033[0m')\n",
    "    elif type==\"green\":\n",
    "        print('\\033[92m',text,'\\033[0m')\n",
    "    elif type==\"magenta\":\n",
    "        print('\\033[35m',text,'\\033[0m')\n",
    "\n",
    "decorators(\"bold\",\"Sabrina\")\n",
    "decorators(\"underline\",\"Beth\")\n",
    "decorators(\"marked\",\"error01\")\n",
    "decorators(\"italic\",\"Agus\")\n",
    "decorators(\"darkcyan\",\"Edgaus\")\n",
    "decorators(\"purple\",\"¡Hola!\")\n",
    "decorators(\"yellow\",\"Don´t worry be happy\")\n",
    "decorators(\"blue\",\"Era el mejor de los tiempos, era el peor de los tiempos...\")\n",
    "decorators(\"cyan\",\"Amo las combinaciones de colores\")\n",
    "decorators(\"red\",\"Je t´aime\")\n",
    "decorators(\"green\",\"World\")\n",
    "decorators(\"magenta\",\":)\")"
   ]
  },
  {
   "cell_type": "markdown",
   "metadata": {},
   "source": [
    "#### 18. Write a Python program to execute a string containing Python code."
   ]
  },
  {
   "cell_type": "code",
   "execution_count": 96,
   "metadata": {},
   "outputs": [
    {
     "name": "stdout",
     "output_type": "stream",
     "text": [
      "El área del triangulo es: 20.0.\n"
     ]
    }
   ],
   "source": [
    "area_t=\"\"\" \n",
    "def area_triangulo(base,altura): \n",
    "    print(f'El área del triangulo es: {base*altura/2}.')\n",
    "area_triangulo(4,10)\n",
    "\"\"\"\n",
    "exec(area_t)"
   ]
  },
  {
   "cell_type": "markdown",
   "metadata": {},
   "source": [
    "#### 19. Write a Python program to access a function inside a function. "
   ]
  },
  {
   "cell_type": "code",
   "execution_count": 108,
   "metadata": {},
   "outputs": [
    {
     "name": "stdout",
     "output_type": "stream",
     "text": [
      "10\n",
      "25\n",
      "40\n"
     ]
    }
   ],
   "source": [
    "def funtion_1(x):\n",
    "    y=x\n",
    "    def funtion_2(y):\n",
    "        y=5*y\n",
    "        return y\n",
    "    print(funtion_2(y))\n",
    "\n",
    "funtion_1(2)\n",
    "funtion_1(5)\n",
    "funtion_1(8)\n"
   ]
  },
  {
   "cell_type": "markdown",
   "metadata": {},
   "source": [
    "#### 20. Write a Python program to detect the number of local variables declared in a function."
   ]
  },
  {
   "cell_type": "code",
   "execution_count": 100,
   "metadata": {},
   "outputs": [
    {
     "name": "stdout",
     "output_type": "stream",
     "text": [
      "5\n"
     ]
    }
   ],
   "source": [
    "def local_variables():\n",
    "    a=0\n",
    "    b=[1,2,3]\n",
    "    c=(8,9,10)\n",
    "    d={5,6,7}\n",
    "    e=\"Hey\"\n",
    "print(local_variables.__code__.co_nlocals)"
   ]
  },
  {
   "cell_type": "markdown",
   "metadata": {},
   "source": [
    "#### 21. Write a Python program that invoke a given function after specific milliseconds. "
   ]
  },
  {
   "cell_type": "code",
   "execution_count": 10,
   "metadata": {},
   "outputs": [
    {
     "name": "stdout",
     "output_type": "stream",
     "text": [
      "5\n"
     ]
    }
   ],
   "source": [
    "def sum_delay_mili_seg(a,b,seg):\n",
    "    import time\n",
    "    time.sleep(seg/1000)\n",
    "    print((a+b))\n",
    "    \n",
    "sum_delay_mili_seg(2,3,2000)\n"
   ]
  },
  {
   "cell_type": "code",
   "execution_count": 11,
   "metadata": {},
   "outputs": [
    {
     "name": "stdout",
     "output_type": "stream",
     "text": [
      "7\n"
     ]
    }
   ],
   "source": [
    "sum_delay_mili_seg(4,3,50000)"
   ]
  },
  {
   "cell_type": "code",
   "execution_count": 12,
   "metadata": {},
   "outputs": [
    {
     "name": "stdout",
     "output_type": "stream",
     "text": [
      "12\n"
     ]
    }
   ],
   "source": [
    "sum_delay_mili_seg(5,7,10000)"
   ]
  },
  {
   "cell_type": "code",
   "execution_count": 13,
   "metadata": {},
   "outputs": [
    {
     "name": "stdout",
     "output_type": "stream",
     "text": [
      "2\n"
     ]
    }
   ],
   "source": [
    "sum_delay_mili_seg(1,1,600)"
   ]
  }
 ],
 "metadata": {
  "interpreter": {
   "hash": "6483d42e64b705807ee7ab627fc5c3df04fe935c6b01693ce46ae2d688d3de35"
  },
  "kernelspec": {
   "display_name": "Python 3.10.4 64-bit",
   "language": "python",
   "name": "python3"
  },
  "language_info": {
   "codemirror_mode": {
    "name": "ipython",
    "version": 3
   },
   "file_extension": ".py",
   "mimetype": "text/x-python",
   "name": "python",
   "nbconvert_exporter": "python",
   "pygments_lexer": "ipython3",
   "version": "3.10.4"
  },
  "orig_nbformat": 4
 },
 "nbformat": 4,
 "nbformat_minor": 2
}
