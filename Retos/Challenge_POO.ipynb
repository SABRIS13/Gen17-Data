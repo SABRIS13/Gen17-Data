{
  "cells": [
    {
      "cell_type": "markdown",
      "metadata": {
        "id": "4EFGoEpOl5J9"
      },
      "source": [
        "##Ejercicio 1\n",
        "Realizar un programa que conste de una clase llamada Alumno que tenga como atributos el nombre y la nota del alumno. Definir los métodos para inicializar sus atributos, imprimirlos y mostrar un mensaje con el resultado de la nota y si ha aprobado o no.\n"
      ]
    },
    {
      "cell_type": "code",
      "execution_count": 1,
      "metadata": {
        "id": "P9ullKnYnFfF"
      },
      "outputs": [
        {
          "name": "stdout",
          "output_type": "stream",
          "text": [
            "Sara\n",
            "8\n",
            "El alumno Sara aprobó la clase con una calificación de 8.\n",
            "Pedro\n",
            "5\n",
            "El alumno Pedro no aprobó la clase.\n"
          ]
        }
      ],
      "source": [
        "class alumno:\n",
        "\n",
        "    def __init__(self,nombre,nota):\n",
        "        self.nombre=nombre\n",
        "        self.nota=nota\n",
        "\n",
        "    def aprobar(self):\n",
        "        if self.nota>=6:\n",
        "            print(f\"El alumno {self.nombre} aprobó la clase con una calificación de {self.nota}.\")\n",
        "        else:\n",
        "            print(f\"El alumno {self.nombre} no aprobó la clase.\")\n",
        "\n",
        "alumno1= alumno(\"Sara\",8)\n",
        "alumno2= alumno(\"Pedro\",5)\n",
        "\n",
        "print(alumno1.nombre)\n",
        "print(alumno1.nota)\n",
        "alumno1.aprobar()\n",
        "\n",
        "print(alumno2.nombre)\n",
        "print(alumno2.nota)\n",
        "alumno2.aprobar()"
      ]
    },
    {
      "cell_type": "markdown",
      "metadata": {
        "id": "b_bGLJVvmDb5"
      },
      "source": [
        "##Ejercicio 2\n",
        "Realizar un programa que tenga una clase Persona con las siguientes características. La clase tendrá como atributos el nombre y la edad de una persona. Implementar los métodos necesarios para inicializar los atributos, mostrar los datos e indicar si la persona es mayor de edad o no.\n"
      ]
    },
    {
      "cell_type": "code",
      "execution_count": 185,
      "metadata": {
        "id": "t_Kbaj2EnF9N"
      },
      "outputs": [
        {
          "name": "stdout",
          "output_type": "stream",
          "text": [
            "Clara\n",
            "21\n",
            "Clara es mayor de edad.\n",
            "Ares\n",
            "17\n",
            "Ares es menor de edad.\n"
          ]
        }
      ],
      "source": [
        "class Persona:\n",
        "    def __init__(self,nombre,edad):\n",
        "        self.nombre=nombre\n",
        "        self.edad=edad\n",
        "\n",
        "    def mayor_edad(self):\n",
        "        if self.edad>=18:\n",
        "            return f\"{self.nombre} es mayor de edad.\"\n",
        "        else:\n",
        "            return f\"{self.nombre} es menor de edad.\"\n",
        "\n",
        "persona1= Persona(\"Clara\",21)\n",
        "persona2= Persona(\"Ares\",17)\n",
        "\n",
        "print(persona1.nombre)\n",
        "print(persona1.edad)\n",
        "print(persona1.mayor_edad())\n",
        "\n",
        "print(persona2.nombre)\n",
        "print(persona2.edad)\n",
        "print(persona2.mayor_edad())"
      ]
    },
    {
      "cell_type": "markdown",
      "metadata": {
        "id": "Esf21Be0mTBn"
      },
      "source": [
        "##Ejercicio 3\n",
        "Desarrollar un programa que cargue los datos de un triángulo. Implementar una clase con los métodos para inicializar los atributos, imprimir el valor del lado con un tamaño mayor y  el tipo de triángulo que es (equilátero, isósceles o escaleno).\n"
      ]
    },
    {
      "cell_type": "code",
      "execution_count": 186,
      "metadata": {
        "id": "sPqi1jqCnGfD"
      },
      "outputs": [
        {
          "name": "stdout",
          "output_type": "stream",
          "text": [
            "El lado mayor mide: 2 u.\n",
            "El triangulo es equilatero.\n",
            "El lado mayor mide: 4 u.\n",
            "El triangulo es isoceles.\n",
            "El lado mayor mide: 8 u.\n",
            "El triangulo es escaleno.\n"
          ]
        }
      ],
      "source": [
        "class triangulo:\n",
        "\n",
        "    def __init__(self,lado_a,lado_b,lado_c):\n",
        "        self.lado_a=lado_a\n",
        "        self.lado_b=lado_b\n",
        "        self.lado_c=lado_c\n",
        "    \n",
        "    def lado_mas_largo(self):\n",
        "        return f\"El lado mayor mide: {max(self.lado_a,self.lado_b,self.lado_c)} u.\"\n",
        "    \n",
        "    def tipo_triangulo(self):\n",
        "        if self.lado_a==self.lado_b and self.lado_a==self.lado_c:\n",
        "            return \"El triangulo es equilatero.\"\n",
        "        elif self.lado_a!=self.lado_b and self.lado_b!=self.lado_c:\n",
        "            return \"El triangulo es escaleno.\"\n",
        "        else:\n",
        "            return  \"El triangulo es isoceles.\"\n",
        "\n",
        "triangulo1= triangulo(2,2,2)\n",
        "print(triangulo1.lado_mas_largo())\n",
        "print(triangulo1.tipo_triangulo())\n",
        "\n",
        "triangulo2= triangulo(3,4,4)\n",
        "print(triangulo2.lado_mas_largo())\n",
        "print(triangulo2.tipo_triangulo())\n",
        "\n",
        "triangulo3= triangulo(8,6,5)  \n",
        "print(triangulo3.lado_mas_largo())\n",
        "print(triangulo3.tipo_triangulo())\n",
        "\n"
      ]
    },
    {
      "cell_type": "markdown",
      "metadata": {
        "id": "FuDVAwyLmXM_"
      },
      "source": [
        "##Ejercicio 4\n",
        "Realizar un programa en el cual se declaren dos valores enteros por teclado utilizando el método __init__. Calcular después la suma, resta, multiplicación y división. Utilizar un método para cada una e imprimir los resultados obtenidos. Llamar a la clase Calculadora."
      ]
    },
    {
      "cell_type": "code",
      "execution_count": 187,
      "metadata": {
        "id": "VnFcFidTnG-O"
      },
      "outputs": [],
      "source": [
        "class Calculadora:\n",
        "\n",
        "    def __init__(self,x,y):\n",
        "        self.x=x\n",
        "        self.y=y\n",
        "    \n",
        "    def suma(self):\n",
        "        return f\"La suma de {self.x} y {self.y} es {self.x+self.y}.\"\n",
        "    \n",
        "    def resta(self):\n",
        "        return f\"La resta de {self.x} y {self.y} es {self.x-self.y}.\"\n",
        "    \n",
        "    def multiplicación(self):\n",
        "        return f\"La multiplicación de {self.x} y {self.y} es {self.x*self.y}.\"\n",
        "\n",
        "    def division(self):\n",
        "        return f\"La división de {self.x} y {self.y} es {self.x/self.y}.\"\n",
        "    "
      ]
    },
    {
      "cell_type": "code",
      "execution_count": 188,
      "metadata": {},
      "outputs": [
        {
          "name": "stdout",
          "output_type": "stream",
          "text": [
            "La suma de 5 y 4 es 9.\n",
            "La resta de 5 y 4 es 1.\n",
            "La división de 5 y 4 es 1.25.\n",
            "La multiplicación de 5 y 4 es 20.\n"
          ]
        }
      ],
      "source": [
        "calculadora1=Calculadora(int(input(\"Ingrese primer numero:\")),int(input(\"Ingrese segundo numero:\")))\n",
        "print(calculadora1.suma())\n",
        "print(calculadora1.resta())\n",
        "print(calculadora1.division())\n",
        "print(calculadora1.multiplicación())"
      ]
    },
    {
      "cell_type": "markdown",
      "metadata": {
        "id": "NmarrIA6mdo5"
      },
      "source": [
        "##Ejercicio 5\n",
        "Realizar una clase que administre una agenda. Se debe almacenar para cada contacto el nombre, el teléfono y el email. Además deberá mostrar un menú con las siguientes opciones\n",
        "\n",
        "\n",
        "\n",
        "*   Añadir contacto\n",
        "*   Lista de contactos\n",
        "*   Buscar contacto\n",
        "*   Editar contacto\n",
        "*   Cerrar agenda"
      ]
    },
    {
      "cell_type": "code",
      "execution_count": 189,
      "metadata": {
        "id": "hvhudvVInHpR"
      },
      "outputs": [],
      "source": [
        "class agenda:\n",
        "\n",
        "    def __init__(self):\n",
        "        self.lista_nom=[]\n",
        "        self.lista_tel=[]\n",
        "        self.lista_email=[]\n",
        "    \n",
        "    def menu(self):\n",
        "        print(\"Seleccione una opción de la Agenda: \\n 1. Añadir contacto \\n 2. Lista de contactos \\n 3. Buscar contacto \\n 4. Editar contacto \\n 5. Cerrar contacto\")\n",
        "        opcion=int(input(\"Indique la opción que desea realizar\"))\n",
        "\n",
        "        if opcion==1:\n",
        "            print(\"Ingrese los datos del nuevo contacto (Nombre,Telefono,email):\")\n",
        "            nombre=input(\"Nombre:\")\n",
        "            telefono=input(\"Telefono:\")\n",
        "            email=input(\"Email\")\n",
        "            self.lista_nom.append(nombre)\n",
        "            self.lista_tel.append(telefono)\n",
        "            self.lista_email.append(email)\n",
        "            print(\"Contacto guardado\")\n",
        "        elif opcion==2:\n",
        "            print(f\"Lista de contactos: {self.lista_nom}, {self.lista_tel}, {self.lista_email}\")\n",
        "        elif opcion==3:\n",
        "            print(\"Indique el nombre del contacto que busca:\")\n",
        "            contacto_x=input(\"Indique el nombre del contacto que busca:\")\n",
        "            if contacto_x in self.lista_nom:\n",
        "                num=self.lista_nom.index(contacto_x)\n",
        "                print(f\"Contacto: {self.lista_nom[num]} Número: {self.lista_tel[num]} Email: {self.lista_email[num]} \")\n",
        "            else:\n",
        "                print(\"No existe contacto\")\n",
        "        elif opcion==4:\n",
        "            print(\"Indique que contacto quiere modificar\")\n",
        "            contacto_y=input(\"Indique que contacto quiere modificar\")\n",
        "            if contacto_y in self.lista_nom:\n",
        "                num_y=self.lista_nom.index(contacto_y)\n",
        "                change_nom=self.lista_nom[num_y]=input(\"Nombre a cambiar\")\n",
        "                change_tel=self.lista_tel[num_y]=input(\"Telefono a cambiar\")\n",
        "                change_email=self.lista_email[num_y]=input(\"Email a cambiar\")\n",
        "                print(f\"Contacto actualizado.\\n Nombre: {change_nom} Telefono: {change_tel} Email: {change_email}\")\n",
        "            else:\n",
        "                print(\"No existe contacto\")\n",
        "        else:\n",
        "            print(\"Cerrar agenda\")\n"
      ]
    },
    {
      "cell_type": "code",
      "execution_count": 190,
      "metadata": {},
      "outputs": [
        {
          "name": "stdout",
          "output_type": "stream",
          "text": [
            "Seleccione una opción de la Agenda: \n",
            " 1. Añadir contacto \n",
            " 2. Lista de contactos \n",
            " 3. Buscar contacto \n",
            " 4. Editar contacto \n",
            " 5. Cerrar contacto\n",
            "Ingrese los datos del nuevo contacto (Nombre,Telefono,email):\n",
            "Contacto guardado\n"
          ]
        }
      ],
      "source": [
        "agenda_sab=agenda()\n",
        "agenda_sab.menu()"
      ]
    },
    {
      "cell_type": "code",
      "execution_count": 191,
      "metadata": {},
      "outputs": [
        {
          "name": "stdout",
          "output_type": "stream",
          "text": [
            "Seleccione una opción de la Agenda: \n",
            " 1. Añadir contacto \n",
            " 2. Lista de contactos \n",
            " 3. Buscar contacto \n",
            " 4. Editar contacto \n",
            " 5. Cerrar contacto\n",
            "Ingrese los datos del nuevo contacto (Nombre,Telefono,email):\n",
            "Contacto guardado\n"
          ]
        }
      ],
      "source": [
        "agenda_sab.menu()"
      ]
    },
    {
      "cell_type": "code",
      "execution_count": 192,
      "metadata": {},
      "outputs": [
        {
          "name": "stdout",
          "output_type": "stream",
          "text": [
            "Seleccione una opción de la Agenda: \n",
            " 1. Añadir contacto \n",
            " 2. Lista de contactos \n",
            " 3. Buscar contacto \n",
            " 4. Editar contacto \n",
            " 5. Cerrar contacto\n",
            "Lista de contactos: ['Sabrina', 'Edgar'], ['667345234', '667567890'], ['sabris@hotmail.com', 'edgar@hotmail.com']\n"
          ]
        }
      ],
      "source": [
        "agenda_sab.menu()"
      ]
    },
    {
      "cell_type": "code",
      "execution_count": 193,
      "metadata": {},
      "outputs": [
        {
          "name": "stdout",
          "output_type": "stream",
          "text": [
            "Seleccione una opción de la Agenda: \n",
            " 1. Añadir contacto \n",
            " 2. Lista de contactos \n",
            " 3. Buscar contacto \n",
            " 4. Editar contacto \n",
            " 5. Cerrar contacto\n",
            "Indique el nombre del contacto que busca:\n",
            "Contacto: Sabrina Número: 667345234 Email: sabris@hotmail.com \n"
          ]
        }
      ],
      "source": [
        "agenda_sab.menu()"
      ]
    },
    {
      "cell_type": "code",
      "execution_count": 194,
      "metadata": {},
      "outputs": [
        {
          "name": "stdout",
          "output_type": "stream",
          "text": [
            "Seleccione una opción de la Agenda: \n",
            " 1. Añadir contacto \n",
            " 2. Lista de contactos \n",
            " 3. Buscar contacto \n",
            " 4. Editar contacto \n",
            " 5. Cerrar contacto\n",
            "Indique el nombre del contacto que busca:\n",
            "No existe contacto\n"
          ]
        }
      ],
      "source": [
        "agenda_sab.menu()"
      ]
    },
    {
      "cell_type": "code",
      "execution_count": 195,
      "metadata": {},
      "outputs": [
        {
          "name": "stdout",
          "output_type": "stream",
          "text": [
            "Seleccione una opción de la Agenda: \n",
            " 1. Añadir contacto \n",
            " 2. Lista de contactos \n",
            " 3. Buscar contacto \n",
            " 4. Editar contacto \n",
            " 5. Cerrar contacto\n",
            "Indique que contacto quiere modificar\n",
            "Contacto actualizado.\n",
            " Nombre: Sabris Telefono: 6674789045 Email: sabris@hotmail.com\n"
          ]
        }
      ],
      "source": [
        "agenda_sab.menu()"
      ]
    },
    {
      "cell_type": "code",
      "execution_count": 196,
      "metadata": {},
      "outputs": [
        {
          "name": "stdout",
          "output_type": "stream",
          "text": [
            "Seleccione una opción de la Agenda: \n",
            " 1. Añadir contacto \n",
            " 2. Lista de contactos \n",
            " 3. Buscar contacto \n",
            " 4. Editar contacto \n",
            " 5. Cerrar contacto\n",
            "Lista de contactos: ['Sabris', 'Edgar'], ['6674789045', '667567890'], ['sabris@hotmail.com', 'edgar@hotmail.com']\n"
          ]
        }
      ],
      "source": [
        "agenda_sab.menu()"
      ]
    },
    {
      "cell_type": "code",
      "execution_count": 197,
      "metadata": {},
      "outputs": [
        {
          "name": "stdout",
          "output_type": "stream",
          "text": [
            "Seleccione una opción de la Agenda: \n",
            " 1. Añadir contacto \n",
            " 2. Lista de contactos \n",
            " 3. Buscar contacto \n",
            " 4. Editar contacto \n",
            " 5. Cerrar contacto\n",
            "Cerrar agenda\n"
          ]
        }
      ],
      "source": [
        "agenda_sab.menu()"
      ]
    },
    {
      "cell_type": "markdown",
      "metadata": {
        "id": "pIFlDlAnmyyh"
      },
      "source": [
        "##Ejercicio 6\n",
        "En un banco tienen clientes que pueden hacer depósitos y extracciones de dinero. El banco requiere también al final del día calcular la cantidad de dinero que se ha depositado.\n",
        "\n",
        "Se deberán crear dos clases, la clase cliente y la clase banco. La clase cliente tendrá los atributos nombre y cantidad y los métodos __init__, depositar, extraer, mostrar_total.\n",
        "\n",
        "La clase banco tendrá como atributos 3 objetos de la clase cliente y los métodos __init__, operar y deposito_total."
      ]
    },
    {
      "cell_type": "code",
      "execution_count": 198,
      "metadata": {
        "id": "7gjXBfvCnIQJ"
      },
      "outputs": [],
      "source": [
        "class cliente:\n",
        "\n",
        "    def __init__(self,nombre):\n",
        "        self.nombre=nombre\n",
        "        self.total=0\n",
        "        self.cantidad_de=0\n",
        "        self.cantidad_ex=0\n",
        "\n",
        "    def depositar(self,cantidad):\n",
        "        self.cantidad_de+=cantidad\n",
        "        print(f\"Se está depositando $ {self.cantidad_de}\")\n",
        "        self.total+= self.cantidad_de\n",
        "    \n",
        "    def extraer(self,cantidad):\n",
        "        self.cantidad_ex+=cantidad\n",
        "        if self.cantidad_ex>self.total:\n",
        "            print(\"No se tienen fondos suficientes.\\nAcción no realizada\")\n",
        "        else:\n",
        "            print(f\"Se está extrayendo $ {self.cantidad_ex}\")\n",
        "            self.total-= self.cantidad_ex\n",
        "\n",
        "    def mostrar_total(self):\n",
        "        print(f\"Total de la cuenta {self.nombre} es: ${self.total} \")\n",
        "\n",
        "class banco:\n",
        "\n",
        "    def __init__(self):\n",
        "        self.cliente1=cliente1\n",
        "        self.cliente2=cliente2\n",
        "        self.cliente3=cliente3\n",
        "    \n",
        "    def operar(self):\n",
        "        extracciones=cliente1.cantidad_ex+cliente2.cantidad_ex+cliente3.cantidad_ex\n",
        "        print(f\"La cantidad extraida en el día es: ${extracciones}\")\n",
        "        depositos=cliente1.cantidad_de+cliente2.cantidad_de+cliente3.cantidad_de\n",
        "        print(f\"La cantidad depositada en el día es: ${depositos}\")\n",
        "\n",
        "    def deposito_total(self):\n",
        "        total_banco=cliente1.total+cliente2.total+cliente3.total\n",
        "        print(f\"La cantidad total de dinero en el banco es de: $ {total_banco}\")"
      ]
    },
    {
      "cell_type": "code",
      "execution_count": 199,
      "metadata": {},
      "outputs": [
        {
          "name": "stdout",
          "output_type": "stream",
          "text": [
            "Se está depositando $ 4000\n",
            "Se está extrayendo $ 500\n",
            "Total de la cuenta Sabrina es: $3500 \n"
          ]
        }
      ],
      "source": [
        "cliente1= cliente(\"Sabrina\")\n",
        "cliente1.depositar(4000)\n",
        "cliente1.extraer(500)\n",
        "cliente1.mostrar_total()"
      ]
    },
    {
      "cell_type": "code",
      "execution_count": 200,
      "metadata": {},
      "outputs": [
        {
          "name": "stdout",
          "output_type": "stream",
          "text": [
            "Se está depositando $ 3000\n",
            "Se está extrayendo $ 2000\n",
            "Total de la cuenta Beth es: $1000 \n"
          ]
        }
      ],
      "source": [
        "cliente2=cliente(\"Beth\")\n",
        "cliente2.depositar(3000)\n",
        "cliente2.extraer(2000)\n",
        "cliente2.mostrar_total()"
      ]
    },
    {
      "cell_type": "code",
      "execution_count": 201,
      "metadata": {},
      "outputs": [
        {
          "name": "stdout",
          "output_type": "stream",
          "text": [
            "Se está depositando $ 2400\n",
            "Se está extrayendo $ 89\n",
            "Total de la cuenta Agus es: $2311 \n"
          ]
        }
      ],
      "source": [
        "cliente3=cliente(\"Agus\")\n",
        "cliente3.depositar(2400)\n",
        "cliente3.extraer(89)\n",
        "cliente3.mostrar_total()"
      ]
    },
    {
      "cell_type": "code",
      "execution_count": 202,
      "metadata": {},
      "outputs": [
        {
          "name": "stdout",
          "output_type": "stream",
          "text": [
            "La cantidad extraida en el día es: $2589\n",
            "La cantidad depositada en el día es: $9400\n",
            "La cantidad total de dinero en el banco es de: $ 6811\n"
          ]
        }
      ],
      "source": [
        "banco1=banco()\n",
        "banco1.operar()\n",
        "banco1.deposito_total()"
      ]
    },
    {
      "cell_type": "markdown",
      "metadata": {
        "id": "B7ZTRLdum2NG"
      },
      "source": [
        "##Ejercicio 7\n",
        "Desarrollar un programa que conste de una clase padre Cuenta y dos subclases PlazoFijo y CajaAhorro. Definir los atributos titular y cantidad y un método para imprimir los datos en la clase Cuenta. La clase CajaAhorro tendrá un método para heredar los datos y uno para mostrar la información.\n",
        "\n",
        "La clase PlazoFijo tendrá dos atributos propios, plazo e interés. Tendrá un método para obtener el importe del interés (cantidad*interés/100) y otro método para mostrar la información, datos del titular plazo, interés y total de interés.\n",
        "\n",
        "Crear al menos un objeto de cada subclase.\n",
        "\n"
      ]
    },
    {
      "cell_type": "code",
      "execution_count": 2,
      "metadata": {
        "id": "F2wvhFNYnI2Z"
      },
      "outputs": [
        {
          "name": "stdout",
          "output_type": "stream",
          "text": [
            "Titular: Spencer \n",
            "Cantidad: $5000 \n",
            "Caja de ahorros: \n",
            "Titular: Hanna \n",
            "Cantidad: 4500\n",
            "El importe de interes del titular: Aria es de: 600.0\n",
            "Plazo fijo:\n",
            "El titular: Aria tiene un plazo de: 4 años, interes de: 10 % y un importe de: 600.0\n"
          ]
        }
      ],
      "source": [
        "class Cuenta:\n",
        "\n",
        "    def __init__(self,titular,cantidad):\n",
        "        self.titular=titular\n",
        "        self.cantidad=cantidad\n",
        "        \n",
        "    def imprimir(self):\n",
        "        print(f\"Titular: {self.titular} \\nCantidad: ${self.cantidad} \")\n",
        "\n",
        "cuenta1=Cuenta(\"Spencer\",5000)\n",
        "cuenta1.imprimir()\n",
        "\n",
        "class Caja_ahorro(Cuenta):\n",
        "\n",
        "    def __init__(self,titular,cantidad,):\n",
        "        super().__init__(titular,cantidad)\n",
        "    \n",
        "    def imprimir(self):\n",
        "        print(f\"Caja de ahorros: \\nTitular: {self.titular} \\nCantidad: {self.cantidad}\")\n",
        "\n",
        "cuenta2=Caja_ahorro(\"Hanna\",4500)\n",
        "cuenta2.imprimir()\n",
        "\n",
        "class Plazo_fijo(Cuenta):\n",
        "    def __init__(self,titular,cantidad,plazo,interes):\n",
        "        super().__init__(titular,cantidad)\n",
        "        self.plazo=plazo\n",
        "        self.interes=interes\n",
        "    \n",
        "    def importe(self):\n",
        "        self.imp=self.cantidad*self.interes/100\n",
        "        print(f\"El importe de interes del titular: {self.titular} es de: {self.imp}\")\n",
        "    \n",
        "    def imprimir_pf(self):\n",
        "        print(\"Plazo fijo:\")\n",
        "        print(f\"El titular: {self.titular} tiene un plazo de: {self.plazo} años, interes de: {self.interes} % y un importe de: {self.imp}\")\n",
        "\n",
        "cuenta3= Plazo_fijo(\"Aria\",6000,4,10)\n",
        "cuenta3.importe()\n",
        "cuenta3.imprimir_pf()\n",
        "    "
      ]
    }
  ],
  "metadata": {
    "colab": {
      "name": "Challenge POO.ipynb",
      "provenance": []
    },
    "interpreter": {
      "hash": "6483d42e64b705807ee7ab627fc5c3df04fe935c6b01693ce46ae2d688d3de35"
    },
    "kernelspec": {
      "display_name": "Python 3.10.4 64-bit",
      "language": "python",
      "name": "python3"
    },
    "language_info": {
      "codemirror_mode": {
        "name": "ipython",
        "version": 3
      },
      "file_extension": ".py",
      "mimetype": "text/x-python",
      "name": "python",
      "nbconvert_exporter": "python",
      "pygments_lexer": "ipython3",
      "version": "3.10.4"
    }
  },
  "nbformat": 4,
  "nbformat_minor": 0
}
