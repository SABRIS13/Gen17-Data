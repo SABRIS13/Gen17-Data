{
 "cells": [
  {
   "cell_type": "markdown",
   "metadata": {},
   "source": [
    "# Challenge SQL"
   ]
  },
  {
   "cell_type": "markdown",
   "metadata": {},
   "source": [
    "#####\n",
    "use master;\n",
    "show tables;\n"
   ]
  },
  {
   "cell_type": "markdown",
   "metadata": {},
   "source": [
    "### 1. Selecciona las columnas type, title, director y country. Devuélvelas en una misma tabla."
   ]
  },
  {
   "cell_type": "markdown",
   "metadata": {},
   "source": [
    "SELECT type, title, director, country FROM netflix_titles;"
   ]
  },
  {
   "cell_type": "markdown",
   "metadata": {},
   "source": [
    "### 2. En la columna 'type' parece haber dos categorías 'Movies' y 'TV Shows'. ¿Cuántos títulos tenemos de cada tipo?"
   ]
  },
  {
   "cell_type": "markdown",
   "metadata": {},
   "source": [
    "SELECT type, COUNT(*) FROM netflix_titles GROUP BY type;"
   ]
  },
  {
   "cell_type": "markdown",
   "metadata": {},
   "source": [
    "### 3. ¿Cuál es el país con la película más reciente en la base de datos (año de lanzamiento más reciente)?"
   ]
  },
  {
   "cell_type": "markdown",
   "metadata": {},
   "source": [
    "SELECT country, MAX(release_year) FROM netflix_titles;"
   ]
  },
  {
   "cell_type": "markdown",
   "metadata": {},
   "source": [
    "### 4. ¿Cuál es el título y el director de la película más antigua en la base de datos?"
   ]
  },
  {
   "cell_type": "markdown",
   "metadata": {},
   "source": [
    "SELECT country,director, MIN(release_year) FROM netflix_titles;"
   ]
  },
  {
   "cell_type": "markdown",
   "metadata": {},
   "source": [
    "### 5. ¿Cuáles series tiene solo 1 temporada (1 Season)? Queremos conocer solo el título, cast y rating"
   ]
  },
  {
   "cell_type": "markdown",
   "metadata": {},
   "source": [
    "SELECT title,cast,rating FROM netflix_titles where duration = '1 Season';"
   ]
  },
  {
   "cell_type": "markdown",
   "metadata": {},
   "source": [
    "### 6. Ha sido un día largo y queremos ver algo que nos haga reír. ¿Acaso habrá algún título que solo esté en la categoría 'Comedies' y nada más?"
   ]
  },
  {
   "cell_type": "markdown",
   "metadata": {},
   "source": [
    "SELECT title,duration,description,country FROM netflix_titles where listed_in= 'Comedies';"
   ]
  },
  {
   "cell_type": "markdown",
   "metadata": {},
   "source": [
    "### 7. Juguemos a ser un sistema de recomendación: A nuestro usuario le encantan las películas, pero solo las más recientes. Así que debes obtener el título, duración, descripción y año de lanzamiento, pero solo de las primeras 30 películas más recientes (debes ordenar de mayor a menor tus resultados)."
   ]
  },
  {
   "cell_type": "markdown",
   "metadata": {},
   "source": [
    "SELECT title,duration,description,release_year FROM netflix_titles where type='Movie' ORDER BY release_year DESC LIMIT 30;\n"
   ]
  }
 ],
 "metadata": {
  "interpreter": {
   "hash": "6483d42e64b705807ee7ab627fc5c3df04fe935c6b01693ce46ae2d688d3de35"
  },
  "kernelspec": {
   "display_name": "Python 3.10.4 64-bit",
   "language": "python",
   "name": "python3"
  },
  "language_info": {
   "codemirror_mode": {
    "name": "ipython",
    "version": 3
   },
   "file_extension": ".py",
   "mimetype": "text/x-python",
   "name": "python",
   "nbconvert_exporter": "python",
   "pygments_lexer": "ipython3",
   "version": "3.10.4"
  },
  "orig_nbformat": 4
 },
 "nbformat": 4,
 "nbformat_minor": 2
}
