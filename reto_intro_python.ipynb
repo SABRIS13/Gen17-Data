{
  "cells": [
    {
      "cell_type": "markdown",
      "metadata": {
        "id": "ms9SLG9zRMi5"
      },
      "source": [
        "Crear las siguientes variables.\n",
        "\n",
        "* Una variable donde asignes el nombre de una película\n",
        "* Una variable que contenga los primeros 4 decimales de PI\n",
        "* Una variable que contenga la cantidad de mascotas que tienes"
      ]
    },
    {
      "cell_type": "code",
      "execution_count": 2,
      "metadata": {
        "id": "HXryfKdpRsvT"
      },
      "outputs": [],
      "source": [
        "pelicula=\"Batman\""
      ]
    },
    {
      "cell_type": "code",
      "execution_count": 1,
      "metadata": {
        "id": "Da31UjXVRtBB"
      },
      "outputs": [],
      "source": [
        "pi=3.1416"
      ]
    },
    {
      "cell_type": "code",
      "execution_count": 3,
      "metadata": {
        "id": "sFe9d8k7RtUj"
      },
      "outputs": [],
      "source": [
        "mascotas=5"
      ]
    },
    {
      "cell_type": "markdown",
      "metadata": {
        "id": "tZBN5IO_SoFr"
      },
      "source": [
        "Imprime los siguientes mensajes utilizando format de tal manera que el resultado sea parecido a lo siguiente:\n",
        "\n",
        "```bash\n",
        "La película que elegi es Harry Potter\n",
        "````\n",
        "\n",
        "```bash\n",
        "El valor de pi es 3.1416\n",
        "````\n",
        "\n",
        "```bash\n",
        "La cantidad de mascotas que tengo son 2\n",
        "````"
      ]
    },
    {
      "cell_type": "code",
      "execution_count": 6,
      "metadata": {
        "id": "EJfQXm6mSpGQ"
      },
      "outputs": [
        {
          "name": "stdout",
          "output_type": "stream",
          "text": [
            "La pelicula que elegí es Batman\n"
          ]
        }
      ],
      "source": [
        "print(\"La pelicula que elegí es \"+ pelicula)"
      ]
    },
    {
      "cell_type": "code",
      "execution_count": 9,
      "metadata": {
        "id": "VVVGZruXSpSg"
      },
      "outputs": [
        {
          "name": "stdout",
          "output_type": "stream",
          "text": [
            "El valor de pi es 3.1416\n"
          ]
        }
      ],
      "source": [
        "print(f\"El valor de pi es {pi}\")"
      ]
    },
    {
      "cell_type": "code",
      "execution_count": 10,
      "metadata": {
        "id": "ZvJiioi3SpjL"
      },
      "outputs": [
        {
          "name": "stdout",
          "output_type": "stream",
          "text": [
            "La cantidad de mascotas que tengo son 5\n"
          ]
        }
      ],
      "source": [
        "print(f\"La cantidad de mascotas que tengo son {mascotas}\")"
      ]
    },
    {
      "cell_type": "markdown",
      "metadata": {
        "id": "qff5RNf_Sxvy"
      },
      "source": [
        "Crea una tabla utilizando f strings donde salgan 3 empleos aleatorios, sus respectivos sueldos y el país donde radican."
      ]
    },
    {
      "cell_type": "code",
      "execution_count": 66,
      "metadata": {
        "id": "uX7iBO31Td2G"
      },
      "outputs": [
        {
          "data": {
            "text/plain": [
              "{'Doctor': ['$15,000.00', 'México'],\n",
              " 'Analista de datos': ['20,000.00', 'México'],\n",
              " 'Maestro': ['$16,000.00', 'México']}"
            ]
          },
          "execution_count": 66,
          "metadata": {},
          "output_type": "execute_result"
        }
      ],
      "source": [
        "empleos={\"Doctor\":[\"$15,000.00\",\"México\"],\"Analista de datos\":[\"20,000.00\",\"México\"],\"Maestro\":[\"$16,000.00\",\"México\"]}\n",
        "empleos"
      ]
    },
    {
      "cell_type": "markdown",
      "metadata": {
        "id": "yWqnOS4OQxQH"
      },
      "source": [
        "Desarrolla un programa donde pida 2 números y devuelva la suma, resta, multiplicación y división de los mismos."
      ]
    },
    {
      "cell_type": "code",
      "execution_count": 18,
      "metadata": {},
      "outputs": [
        {
          "name": "stdout",
          "output_type": "stream",
          "text": [
            "La suma es: 2 \n",
            "La resta es: 0 \n",
            "La multiplicación es: 1 \n",
            "La división es: 1.0 \n"
          ]
        }
      ],
      "source": [
        "numero1 = int(input(\"Introduzca un número\"))\n",
        "numero2 = int(input(\"Introduzca un número\"))\n",
        "print(f\"La suma es: {numero1+numero2} \")\n",
        "print(f\"La resta es: {numero1-numero2} \")\n",
        "print(f\"La multiplicación es: {numero1*numero2} \")\n",
        "print(f\"La división es: {numero1/numero2} \")\n"
      ]
    },
    {
      "cell_type": "code",
      "execution_count": 68,
      "metadata": {
        "id": "VcfmeoFZQqZz"
      },
      "outputs": [
        {
          "name": "stdout",
          "output_type": "stream",
          "text": [
            "La suma es:2 La resta es:0 La multiplicación es:1 La división es: 1.0\n"
          ]
        }
      ],
      "source": [
        "numero1=int(input(\"Introduzca un número\"))\n",
        "numero2=int(input(\"Introduzca un número\"))\n",
        "print(\"La suma es:\"+ str(numero1+numero2)+\" La resta es:\" + str(numero1-numero2) +\" La multiplicación es:\" + str(numero1*numero2) + \" La división es: \" + str(numero1/numero2))"
      ]
    },
    {
      "cell_type": "markdown",
      "metadata": {
        "id": "n6_bQXdhT4l-"
      },
      "source": [
        "Crea una lista con 4 colores y despues ejecuta las siguientes lineas de código:"
      ]
    },
    {
      "cell_type": "code",
      "execution_count": 60,
      "metadata": {
        "id": "Zh8H7yfbT9iI"
      },
      "outputs": [],
      "source": [
        "colores =[\"Rosa\", \"Azul\", \"Blanco\", \"Negro\"]"
      ]
    },
    {
      "cell_type": "code",
      "execution_count": 20,
      "metadata": {
        "id": "ook1SGxxT-1j"
      },
      "outputs": [
        {
          "name": "stdout",
          "output_type": "stream",
          "text": [
            "El color 0 es Rosa\n",
            "El color 1 es Azul\n",
            "El color 2 es Blanco\n",
            "El color 3 es Negro\n"
          ]
        }
      ],
      "source": [
        "print(f\"El color 0 es {colores[0]}\")\n",
        "print(f\"El color 1 es {colores[1]}\")\n",
        "print(f\"El color 2 es {colores[2]}\")\n",
        "print(f\"El color 3 es {colores[3]}\")"
      ]
    },
    {
      "cell_type": "markdown",
      "metadata": {
        "id": "Nes2H1VBUOb-"
      },
      "source": [
        "Crea una lista con 4 ciudades y utilizando Slice, que aparezcan las 2 de enmedio"
      ]
    },
    {
      "cell_type": "code",
      "execution_count": 22,
      "metadata": {
        "id": "h9Lpky2pUVbu"
      },
      "outputs": [
        {
          "data": {
            "text/plain": [
              "['CDMX', 'L.A']"
            ]
          },
          "execution_count": 22,
          "metadata": {},
          "output_type": "execute_result"
        }
      ],
      "source": [
        "ciudades=[\"Roma\",\"CDMX\",\"L.A\",\"Venecia\"]\n",
        "ciudades[1:3]"
      ]
    },
    {
      "cell_type": "markdown",
      "metadata": {
        "id": "KZRc8KrtUIXs"
      },
      "source": [
        "De nuestra lista de ciudades, imprime la ultima ciudad"
      ]
    },
    {
      "cell_type": "code",
      "execution_count": 23,
      "metadata": {
        "id": "w4Iu12l6UZc0"
      },
      "outputs": [
        {
          "data": {
            "text/plain": [
              "'Venecia'"
            ]
          },
          "execution_count": 23,
          "metadata": {},
          "output_type": "execute_result"
        }
      ],
      "source": [
        "ciudades[-1]"
      ]
    },
    {
      "cell_type": "markdown",
      "metadata": {
        "id": "tm1WmrjoWX9g"
      },
      "source": [
        "Agrega los siguientes datos a tu lista de colores: \"Morado\", \"Rosa\""
      ]
    },
    {
      "cell_type": "code",
      "execution_count": 63,
      "metadata": {
        "id": "59n7yhbRWgda"
      },
      "outputs": [],
      "source": [
        "colores.append(\"Morado\")\n",
        "colores.append(\"Amarillo\")"
      ]
    },
    {
      "cell_type": "code",
      "execution_count": 64,
      "metadata": {
        "id": "o6VX6k7HWg2r"
      },
      "outputs": [
        {
          "name": "stdout",
          "output_type": "stream",
          "text": [
            "['Rosa', 'Azul', 'Blanco', 'Negro', 'Morado', 'Amarillo']\n"
          ]
        }
      ],
      "source": [
        "print(colores)"
      ]
    },
    {
      "cell_type": "markdown",
      "metadata": {
        "id": "raJtwSsMXObz"
      },
      "source": [
        "La siguiente lista contiene las alturas de 15 niños de cuarto grado, sacr el promedio de alturas."
      ]
    },
    {
      "cell_type": "code",
      "execution_count": 2,
      "metadata": {
        "id": "RBHJnt7RXVfn"
      },
      "outputs": [],
      "source": [
        "alturas = [1.35, 1.56, 1.42, 1.22, 1.37, 1.23, 1.40, 1.25, 1.22, 1.37, 1.30, 1.15, 1.24, 1.31, 1.17]"
      ]
    },
    {
      "cell_type": "code",
      "execution_count": 6,
      "metadata": {
        "id": "OMwiQWdPXs0D"
      },
      "outputs": [],
      "source": [
        "prom=sum(alturas)/len(alturas)"
      ]
    },
    {
      "cell_type": "code",
      "execution_count": 7,
      "metadata": {},
      "outputs": [
        {
          "data": {
            "text/plain": [
              "1.304"
            ]
          },
          "execution_count": 7,
          "metadata": {},
          "output_type": "execute_result"
        }
      ],
      "source": [
        "prom"
      ]
    },
    {
      "cell_type": "markdown",
      "metadata": {
        "id": "gnmvV-6CXtFf"
      },
      "source": [
        "Obten la altura mas chica del grupo"
      ]
    },
    {
      "cell_type": "code",
      "execution_count": 25,
      "metadata": {
        "id": "6_vnauWrXxxw"
      },
      "outputs": [
        {
          "data": {
            "text/plain": [
              "1.15"
            ]
          },
          "execution_count": 25,
          "metadata": {},
          "output_type": "execute_result"
        }
      ],
      "source": [
        "min(alturas)"
      ]
    },
    {
      "cell_type": "markdown",
      "metadata": {
        "id": "QA4QhB1RXyIP"
      },
      "source": [
        "Obten la altura más alta del grupo"
      ]
    },
    {
      "cell_type": "code",
      "execution_count": 26,
      "metadata": {
        "id": "zaEh5073X0Ef"
      },
      "outputs": [
        {
          "data": {
            "text/plain": [
              "1.56"
            ]
          },
          "execution_count": 26,
          "metadata": {},
          "output_type": "execute_result"
        }
      ],
      "source": [
        "max(alturas)"
      ]
    },
    {
      "cell_type": "markdown",
      "metadata": {
        "id": "PEOwRkHPZP-h"
      },
      "source": [
        "Crea un diccionario de perros, donde lleva 2 claves: Nombre y Raza"
      ]
    },
    {
      "cell_type": "code",
      "execution_count": 10,
      "metadata": {
        "id": "NbaNatoIa3M8"
      },
      "outputs": [
        {
          "name": "stdout",
          "output_type": "stream",
          "text": [
            "{'Nombre': 'Rufus', 'Raza': 'Pastor alemán'}\n"
          ]
        }
      ],
      "source": [
        "Perro_1={\"Nombre\":\"Rufus\",\"Raza\":\"Pastor alemán\"}\n",
        "print(Perro_1)"
      ]
    },
    {
      "cell_type": "markdown",
      "metadata": {
        "id": "8uUUKwjxbBs9"
      },
      "source": [
        "Agrega una clave llamada Edad a nuestro diccionario y asignale un valor"
      ]
    },
    {
      "cell_type": "code",
      "execution_count": 9,
      "metadata": {
        "id": "fCCGf6WUbAWb"
      },
      "outputs": [
        {
          "name": "stdout",
          "output_type": "stream",
          "text": [
            "{'Nombre': 'Rufus', 'Raza': 'Pastor alemán', 'Edad': 1}\n"
          ]
        }
      ],
      "source": [
        "Perro_1[\"Edad\"]=1\n",
        "print(Perro_1)"
      ]
    },
    {
      "cell_type": "markdown",
      "metadata": {
        "id": "dlUIMAntbIer"
      },
      "source": [
        "Crea 2 diccionarios de perro más incluyendo el valor edad."
      ]
    },
    {
      "cell_type": "code",
      "execution_count": 12,
      "metadata": {},
      "outputs": [
        {
          "name": "stdout",
          "output_type": "stream",
          "text": [
            "{'Nombre': 'Honey', 'Raza': 'Chihuahua', 'Edad': 2}\n"
          ]
        }
      ],
      "source": [
        "Perro_2={\"Nombre\":\"Honey\",\"Raza\":\"Chihuahua\",\"Edad\":2}\n",
        "print(Perro_2)"
      ]
    },
    {
      "cell_type": "code",
      "execution_count": 14,
      "metadata": {
        "id": "1TgwcD9tbHDx"
      },
      "outputs": [
        {
          "name": "stdout",
          "output_type": "stream",
          "text": [
            "{'Nombre': 'Daemon', 'Raza': 'Pastor belga', 'Edad': 1}\n"
          ]
        }
      ],
      "source": [
        "Perro_3={\"Nombre\":\"Daemon\",\"Raza\":\"Pastor belga\",\"Edad\":1}\n",
        "print(Perro_3)"
      ]
    },
    {
      "cell_type": "markdown",
      "metadata": {
        "id": "htGYP7tdbUQh"
      },
      "source": [
        "Crea una lista llamada mascotas y dentro de los corchetes, agrega los 3 diccionarios"
      ]
    },
    {
      "cell_type": "code",
      "execution_count": 16,
      "metadata": {
        "id": "nc2LaxGYbPDG"
      },
      "outputs": [
        {
          "name": "stdout",
          "output_type": "stream",
          "text": [
            "[{'Nombre': 'Rufus', 'Raza': 'Pastor alemán'}, {'Nombre': 'Honey', 'Raza': 'Chihuahua', 'Edad': 2}, {'Nombre': 'Daemon', 'Raza': 'Pastor belga', 'Edad': 1}]\n"
          ]
        }
      ],
      "source": [
        "Perros=[Perro_1,Perro_2,Perro_3]\n",
        "print(Perros)"
      ]
    }
  ],
  "metadata": {
    "colab": {
      "name": "reto-intro-python.ipynb",
      "provenance": []
    },
    "kernelspec": {
      "display_name": "Python 3",
      "name": "python3"
    },
    "language_info": {
      "codemirror_mode": {
        "name": "ipython",
        "version": 3
      },
      "file_extension": ".py",
      "mimetype": "text/x-python",
      "name": "python",
      "nbconvert_exporter": "python",
      "pygments_lexer": "ipython3",
      "version": "3.10.4"
    }
  },
  "nbformat": 4,
  "nbformat_minor": 0
}
