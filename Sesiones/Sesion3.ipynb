{
 "cells": [
  {
   "cell_type": "markdown",
   "metadata": {},
   "source": [
    "### Funciones"
   ]
  },
  {
   "cell_type": "code",
   "execution_count": 2,
   "metadata": {},
   "outputs": [
    {
     "name": "stdout",
     "output_type": "stream",
     "text": [
      "Pikachu es un pokemon\n"
     ]
    }
   ],
   "source": [
    "def pokemon(pokemon_name):\n",
    "    print(pokemon_name, \"es un pokemon\")\n",
    "pokemon(\"Pikachu\")"
   ]
  },
  {
   "cell_type": "code",
   "execution_count": 4,
   "metadata": {},
   "outputs": [
    {
     "name": "stdout",
     "output_type": "stream",
     "text": [
      "Pikachu es un pokemon\n",
      "Schiritz es un pokemon\n"
     ]
    }
   ],
   "source": [
    "def pokemon(pokemon_name):\n",
    "    print(pokemon_name, \"es un pokemon\")\n",
    "pokemon(\"Pikachu\")\n",
    "pokemon(\"Schiritz\")"
   ]
  },
  {
   "cell_type": "code",
   "execution_count": 3,
   "metadata": {},
   "outputs": [
    {
     "data": {
      "text/plain": [
       "'Sabrina'"
      ]
     },
     "execution_count": 3,
     "metadata": {},
     "output_type": "execute_result"
    }
   ],
   "source": [
    "def imprime_nom(nombre):\n",
    "    return nombre\n",
    "imprime_nom(\"Sabrina\")"
   ]
  },
  {
   "cell_type": "code",
   "execution_count": 9,
   "metadata": {},
   "outputs": [
    {
     "data": {
      "text/plain": [
       "('Sab', 'Geral', 'Ed', 'Beth', 'Ag')"
      ]
     },
     "execution_count": 9,
     "metadata": {},
     "output_type": "execute_result"
    }
   ],
   "source": [
    "nombre=(\"Sab\",\"Geral\",\"Ed\",\"Beth\",\"Ag\")\n",
    "def imprime_noms(*nombre):\n",
    "    return nombre[0]\n",
    "\n",
    "imprime_noms(nombre)"
   ]
  },
  {
   "cell_type": "code",
   "execution_count": null,
   "metadata": {},
   "outputs": [],
   "source": []
  },
  {
   "cell_type": "code",
   "execution_count": 13,
   "metadata": {},
   "outputs": [
    {
     "data": {
      "text/plain": [
       "[6, 35, 2]"
      ]
     },
     "execution_count": 13,
     "metadata": {},
     "output_type": "execute_result"
    }
   ],
   "source": [
    "def reverse(a):\n",
    "    return a[::-1]\n",
    "a=[1,2,3,4]\n",
    "reverse(a)\n",
    "reverse([2,35,6])\n"
   ]
  },
  {
   "cell_type": "code",
   "execution_count": 39,
   "metadata": {},
   "outputs": [
    {
     "ename": "SyntaxError",
     "evalue": "'break' outside loop (1168528712.py, line 6)",
     "output_type": "error",
     "traceback": [
      "\u001b[1;36m  Input \u001b[1;32mIn [39]\u001b[1;36m\u001b[0m\n\u001b[1;33m    break\u001b[0m\n\u001b[1;37m    ^\u001b[0m\n\u001b[1;31mSyntaxError\u001b[0m\u001b[1;31m:\u001b[0m 'break' outside loop\n"
     ]
    }
   ],
   "source": [
    "def fact(x):\n",
    "    i=1\n",
    "    while i<=x:\n",
    "        fac=i*(i+1)\n",
    "    if i>x:\n",
    "        break\n",
    "    return fac\n"
   ]
  },
  {
   "cell_type": "code",
   "execution_count": 43,
   "metadata": {},
   "outputs": [
    {
     "name": "stdout",
     "output_type": "stream",
     "text": [
      "3 esta en el rango espeficicado\n"
     ]
    }
   ],
   "source": [
    "def a_in_range(x,n,m):\n",
    "    if x in range(n,m):\n",
    "        return print(f\"{x} esta en el rango espeficicado\")\n",
    "\n",
    "a_in_range(3,2,5)"
   ]
  },
  {
   "cell_type": "code",
   "execution_count": 49,
   "metadata": {},
   "outputs": [],
   "source": [
    "def coun_upper_lower(string):\n",
    "    count_mayus=0\n",
    "    count_minus=0\n",
    "    for letter in string:\n",
    "        if letter == letter.upper():\n",
    "            count_mayus +=1\n",
    "        elif letter == letter.lower():\n",
    "            count_minus +=1\n",
    "    return f\"El numero de mayusculas es {count_mayus} y el número de minusculas es {count_minus} \"\n"
   ]
  },
  {
   "cell_type": "code",
   "execution_count": 50,
   "metadata": {},
   "outputs": [
    {
     "name": "stdout",
     "output_type": "stream",
     "text": [
      "El numero de mayusculas es 2 y el número de minusculas es 2 \n"
     ]
    }
   ],
   "source": [
    "print(coun_upper_lower(\"HolA\"))\n",
    "#Expresiones regulares investigar"
   ]
  },
  {
   "cell_type": "code",
   "execution_count": null,
   "metadata": {},
   "outputs": [],
   "source": []
  }
 ],
 "metadata": {
  "interpreter": {
   "hash": "6483d42e64b705807ee7ab627fc5c3df04fe935c6b01693ce46ae2d688d3de35"
  },
  "kernelspec": {
   "display_name": "Python 3.10.4 64-bit",
   "language": "python",
   "name": "python3"
  },
  "language_info": {
   "codemirror_mode": {
    "name": "ipython",
    "version": 3
   },
   "file_extension": ".py",
   "mimetype": "text/x-python",
   "name": "python",
   "nbconvert_exporter": "python",
   "pygments_lexer": "ipython3",
   "version": "3.10.4"
  },
  "orig_nbformat": 4
 },
 "nbformat": 4,
 "nbformat_minor": 2
}
